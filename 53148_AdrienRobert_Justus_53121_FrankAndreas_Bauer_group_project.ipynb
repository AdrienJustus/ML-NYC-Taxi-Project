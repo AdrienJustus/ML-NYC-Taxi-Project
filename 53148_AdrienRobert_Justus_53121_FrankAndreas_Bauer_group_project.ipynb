{
 "cells": [
  {
   "cell_type": "markdown",
   "metadata": {
    "application/vnd.databricks.v1+cell": {
     "inputWidgets": {},
     "nuid": "3d64f0fd-710e-48c7-8e5b-e56c877e3f79",
     "showTitle": false,
     "title": ""
    },
    "id": "TN5t6y9LOF4M"
   },
   "source": [
    "# Advanced data analysis: group project\n",
    "\n",
    "By delivering this notebook, we confirm that the code presented was developed by the following students.\n",
    "\n",
    "## Student 1: Adrien Robert Justus, 53148\n",
    "## Student 2: Frank Andreas Bauer, 53121\n"
   ]
  },
  {
   "cell_type": "markdown",
   "metadata": {
    "id": "K_tmGP-I8ihI"
   },
   "source": []
  },
  {
   "cell_type": "markdown",
   "metadata": {
    "id": "Bst8x-ezneGF"
   },
   "source": [
    "In the solutions for exercises 1 to 5 you should include necessarily one solution using Pandas/scikit learn and one using Spark."
   ]
  },
  {
   "cell_type": "markdown",
   "metadata": {
    "application/vnd.databricks.v1+cell": {
     "inputWidgets": {},
     "nuid": "51823ee2-b2f5-4933-b3a3-3f52853b5339",
     "showTitle": false,
     "title": ""
    },
    "id": "QQtfbqerOF4O"
   },
   "source": [
    "Some useful links:\n",
    "* [ACM DEBS 2015 Grand Challenge](http://www.debs2015.org/call-grand-challenge.html)\n",
    "\n",
    "* [Pandas documentations](https://pandas.pydata.org/docs/)\n",
    "\n",
    "* [scikit-learn](https://scikit-learn.org/stable/)\n",
    "\n",
    "* [Spark web site](https://spark.apache.org/)\n",
    "\n",
    "* [Spark MLlib main page](https://spark.apache.org/mllib/)\n",
    "* [Spark MLlib guide](https://spark.apache.org/docs/latest/ml-guide.html)\n",
    "\n",
    "* [Spark GraphX main page](https://spark.apache.org/graphx/)\n",
    "* [Spark GraphFrames main page](https://graphframes.github.io/graphframes/docs/_site/index.html)\n",
    "* [Spark GraphFrames User Guide](https://graphframes.github.io/graphframes/docs/_site/user-guide.html)\n",
    "\n",
    "Run the following cell just to check if it is running in COLAB."
   ]
  },
  {
   "cell_type": "code",
   "execution_count": 1,
   "metadata": {
    "executionInfo": {
     "elapsed": 12,
     "status": "ok",
     "timestamp": 1670231118879,
     "user": {
      "displayName": "Frank Andreas Bauer",
      "userId": "08974877831175836730"
     },
     "user_tz": 0
    },
    "id": "FhmGSxS-gw2u"
   },
   "outputs": [],
   "source": [
    "import sys\n",
    "import os\n",
    "\n",
    "IN_COLAB = 'google.colab' in sys.modules"
   ]
  },
  {
   "cell_type": "code",
   "execution_count": 2,
   "metadata": {
    "colab": {
     "base_uri": "https://localhost:8080/"
    },
    "executionInfo": {
     "elapsed": 11,
     "status": "ok",
     "timestamp": 1670231118879,
     "user": {
      "displayName": "Frank Andreas Bauer",
      "userId": "08974877831175836730"
     },
     "user_tz": 0
    },
    "id": "Pu51Oycw5_AM",
    "outputId": "db28622c-535d-43b4-d98e-302567520e35"
   },
   "outputs": [
    {
     "data": {
      "text/plain": [
       "True"
      ]
     },
     "execution_count": 2,
     "metadata": {},
     "output_type": "execute_result"
    }
   ],
   "source": [
    "IN_COLAB"
   ]
  },
  {
   "cell_type": "code",
   "execution_count": 3,
   "metadata": {
    "colab": {
     "base_uri": "https://localhost:8080/"
    },
    "executionInfo": {
     "elapsed": 10,
     "status": "ok",
     "timestamp": 1670231118879,
     "user": {
      "displayName": "Frank Andreas Bauer",
      "userId": "08974877831175836730"
     },
     "user_tz": 0
    },
    "id": "dUCCIFFa5_AN",
    "outputId": "c9e0e4cc-81c6-4259-87c1-24b290da3925"
   },
   "outputs": [
    {
     "data": {
      "text/plain": [
       "True"
      ]
     },
     "execution_count": 3,
     "metadata": {},
     "output_type": "execute_result"
    }
   ],
   "source": [
    "import sys\n",
    "import os\n",
    "\n",
    "IN_COLAB = 'google.colab' in sys.modules\n",
    "IN_COLAB"
   ]
  },
  {
   "cell_type": "markdown",
   "metadata": {
    "id": "UCnBJcdNOgXs"
   },
   "source": [
    "## Install software\n",
    "\n",
    "The following cell will install Spark, if the notebook is running on COLAB. \n",
    "\n",
    "Before running this cell, you should access the following link [https://drive.google.com/drive/folders/1rPCvd5F-uAoWtMYxvMvRyvL-F_1ihmQ-?usp=sharing](https://drive.google.com/drive/folders/1rPCvd5F-uAoWtMYxvMvRyvL-F_1ihmQ-?usp=sharing) and \"Add Shortcut to Drive\".\n"
   ]
  },
  {
   "cell_type": "code",
   "execution_count": 4,
   "metadata": {
    "colab": {
     "base_uri": "https://localhost:8080/"
    },
    "executionInfo": {
     "elapsed": 72210,
     "status": "ok",
     "timestamp": 1670231191083,
     "user": {
      "displayName": "Frank Andreas Bauer",
      "userId": "08974877831175836730"
     },
     "user_tz": 0
    },
    "id": "lG_xmZ8qOXW_",
    "outputId": "0e0bf4c5-40b9-425b-a481-5afd47ec75a5"
   },
   "outputs": [
    {
     "name": "stdout",
     "output_type": "stream",
     "text": [
      "Reading package lists... Done\n",
      "Building dependency tree       \n",
      "Reading state information... Done\n",
      "openjdk-11-jdk-headless is already the newest version (11.0.17+8-1ubuntu2~18.04).\n",
      "The following package was automatically installed and is no longer required:\n",
      "  libnvidia-common-460\n",
      "Use 'apt autoremove' to remove it.\n",
      "0 upgraded, 0 newly installed, 0 to remove and 7 not upgraded.\n",
      "Looking in indexes: https://pypi.org/simple, https://us-python.pkg.dev/colab-wheels/public/simple/\n",
      "Collecting pyspark\n",
      "  Downloading pyspark-3.3.1.tar.gz (281.4 MB)\n",
      "\u001b[K     |████████████████████████████████| 281.4 MB 40 kB/s \n",
      "\u001b[?25hCollecting py4j==0.10.9.5\n",
      "  Downloading py4j-0.10.9.5-py2.py3-none-any.whl (199 kB)\n",
      "\u001b[K     |████████████████████████████████| 199 kB 57.6 MB/s \n",
      "\u001b[?25hBuilding wheels for collected packages: pyspark\n",
      "  Building wheel for pyspark (setup.py) ... \u001b[?25l\u001b[?25hdone\n",
      "  Created wheel for pyspark: filename=pyspark-3.3.1-py2.py3-none-any.whl size=281845512 sha256=545f6171c092c598db3adc6816db767a2367337ba2c329cd1fd2c60828c43a9a\n",
      "  Stored in directory: /root/.cache/pip/wheels/43/dc/11/ec201cd671da62fa9c5cc77078235e40722170ceba231d7598\n",
      "Successfully built pyspark\n",
      "Installing collected packages: py4j, pyspark\n",
      "Successfully installed py4j-0.10.9.5 pyspark-3.3.1\n",
      "Looking in indexes: https://pypi.org/simple, https://us-python.pkg.dev/colab-wheels/public/simple/\n",
      "Requirement already satisfied: gdown in /usr/local/lib/python3.8/dist-packages (4.4.0)\n",
      "Requirement already satisfied: filelock in /usr/local/lib/python3.8/dist-packages (from gdown) (3.8.0)\n",
      "Requirement already satisfied: requests[socks] in /usr/local/lib/python3.8/dist-packages (from gdown) (2.23.0)\n",
      "Requirement already satisfied: six in /usr/local/lib/python3.8/dist-packages (from gdown) (1.15.0)\n",
      "Requirement already satisfied: tqdm in /usr/local/lib/python3.8/dist-packages (from gdown) (4.64.1)\n",
      "Requirement already satisfied: beautifulsoup4 in /usr/local/lib/python3.8/dist-packages (from gdown) (4.6.3)\n",
      "Requirement already satisfied: idna<3,>=2.5 in /usr/local/lib/python3.8/dist-packages (from requests[socks]->gdown) (2.10)\n",
      "Requirement already satisfied: chardet<4,>=3.0.2 in /usr/local/lib/python3.8/dist-packages (from requests[socks]->gdown) (3.0.4)\n",
      "Requirement already satisfied: certifi>=2017.4.17 in /usr/local/lib/python3.8/dist-packages (from requests[socks]->gdown) (2022.9.24)\n",
      "Requirement already satisfied: urllib3!=1.25.0,!=1.25.1,<1.26,>=1.21.1 in /usr/local/lib/python3.8/dist-packages (from requests[socks]->gdown) (1.24.3)\n",
      "Requirement already satisfied: PySocks!=1.5.7,>=1.5.6 in /usr/local/lib/python3.8/dist-packages (from requests[socks]->gdown) (1.7.1)\n"
     ]
    }
   ],
   "source": [
    "# Install needed software\n",
    "# Run this cell once before running the other cells in the notebook\n",
    "if IN_COLAB:\n",
    "    !apt-get install openjdk-11-jdk-headless\n",
    "    !pip install pyspark    \n",
    "\n",
    "!pip install gdown\n",
    "!mkdir checkpoint\n",
    "\n"
   ]
  },
  {
   "cell_type": "code",
   "execution_count": 5,
   "metadata": {
    "colab": {
     "base_uri": "https://localhost:8080/"
    },
    "executionInfo": {
     "elapsed": 18,
     "status": "ok",
     "timestamp": 1670231191084,
     "user": {
      "displayName": "Frank Andreas Bauer",
      "userId": "08974877831175836730"
     },
     "user_tz": 0
    },
    "id": "35jMOeD6dvo5",
    "outputId": "b58e9673-0cb7-4c44-c47a-d5a12c8fd0fe"
   },
   "outputs": [
    {
     "name": "stdout",
     "output_type": "stream",
     "text": [
      "--2022-12-05 09:06:27--  https://repos.spark-packages.org/graphframes/graphframes/0.8.2-spark3.2-s_2.12/graphframes-0.8.2-spark3.2-s_2.12.jar\n",
      "Resolving repos.spark-packages.org (repos.spark-packages.org)... 108.156.83.15, 108.156.83.37, 108.156.83.69, ...\n",
      "Connecting to repos.spark-packages.org (repos.spark-packages.org)|108.156.83.15|:443... connected.\n",
      "HTTP request sent, awaiting response... 200 OK\n",
      "Length: 247880 (242K) [binary/octet-stream]\n",
      "Saving to: ‘graphframes-0.8.2-spark3.2-s_2.12.jar’\n",
      "\n",
      "graphframes-0.8.2-s 100%[===================>] 242.07K  --.-KB/s    in 0.06s   \n",
      "\n",
      "2022-12-05 09:06:27 (3.90 MB/s) - ‘graphframes-0.8.2-spark3.2-s_2.12.jar’ saved [247880/247880]\n",
      "\n"
     ]
    }
   ],
   "source": [
    "import os\n",
    "!wget https://repos.spark-packages.org/graphframes/graphframes/0.8.2-spark3.2-s_2.12/graphframes-0.8.2-spark3.2-s_2.12.jar\n",
    "os.environ['PYSPARK_SUBMIT_ARGS'] = '--jars graphframes-0.8.2-spark3.2-s_2.12.jar pyspark-shell'\n"
   ]
  },
  {
   "cell_type": "markdown",
   "metadata": {
    "id": "RwjqyPaJ9_n-"
   },
   "source": [
    "## Setup Data\n",
    "\n",
    "The first time you run the notebook, before running this cell, you should access the following link https://drive.google.com/drive/folders/1rPCvd5F-uAoWtMYxvMvRyvL-F_1ihmQ-?usp=sharing and select the \"Add Shortcut to Drive\". This will add a shortcut to the datasets to your Google Drive.\n",
    "\n",
    "The following cell will mount the directory into Colab environment, so that it can be accessed as a local file.\n"
   ]
  },
  {
   "cell_type": "code",
   "execution_count": 6,
   "metadata": {
    "colab": {
     "base_uri": "https://localhost:8080/"
    },
    "executionInfo": {
     "elapsed": 25676,
     "status": "ok",
     "timestamp": 1670231216752,
     "user": {
      "displayName": "Frank Andreas Bauer",
      "userId": "08974877831175836730"
     },
     "user_tz": 0
    },
    "id": "V-pmuME98Y_d",
    "outputId": "ed8e7195-776d-43e2-ae50-62145036a3db"
   },
   "outputs": [
    {
     "name": "stdout",
     "output_type": "stream",
     "text": [
      "Mounted at /content/drive\n"
     ]
    }
   ],
   "source": [
    "from google.colab import drive\n",
    "drive.mount('/content/drive')\n"
   ]
  },
  {
   "cell_type": "code",
   "execution_count": 7,
   "metadata": {
    "executionInfo": {
     "elapsed": 12,
     "status": "ok",
     "timestamp": 1670231216753,
     "user": {
      "displayName": "Frank Andreas Bauer",
      "userId": "08974877831175836730"
     },
     "user_tz": 0
    },
    "id": "4r_gWWm1_Z3G"
   },
   "outputs": [],
   "source": [
    "#Select the dataset you want to use by uncommnting the appropriate line and running this cell\n",
    "\n",
    "#Small dataset 100K lines\n",
    "FILENAME=\"/content/drive/MyDrive/group2223/tiny.csv\"\n",
    "\n",
    "#Default dataset 2M lines\n",
    "#FILENAME=\"/content/drive/MyDrive/group2223/sample.csv\"\n",
    "\n",
    "#Huge dataset 173M lines - use only in exercise 0\n",
    "#FILENAME=\"/content/drive/MyDrive/group2223/sorted_data.csv\"\n",
    "\n"
   ]
  },
  {
   "cell_type": "markdown",
   "metadata": {
    "id": "028pOJ1rOvhf"
   },
   "source": [
    "### Alternative way to access data\n",
    "\n",
    "Alternatively you can access data by downloading the data into the colab running environment. The following sets download different datasets - download the one you need.\n",
    "\n",
    "Run the following cell to download a **tiny** dataset. You can download it to you computer using this URL: https://drive.google.com/file/d/12urSB0j_bMKhGcX3JReMEnyJ6sBNlJvZ\n",
    "\n"
   ]
  },
  {
   "cell_type": "code",
   "execution_count": null,
   "metadata": {
    "colab": {
     "base_uri": "https://localhost:8080/"
    },
    "executionInfo": {
     "elapsed": 9266,
     "status": "ok",
     "timestamp": 1669729430947,
     "user": {
      "displayName": "adrien.justus@gmx.net",
      "userId": "09874997818800184251"
     },
     "user_tz": 0
    },
    "id": "LdE5Jk3uO5Nd",
    "outputId": "13f96f97-c4f0-4dad-aa4a-b45c016bf72c"
   },
   "outputs": [
    {
     "name": "stdout",
     "output_type": "stream",
     "text": [
      "Downloading...\n",
      "From: https://drive.google.com/uc?id=12urSB0j_bMKhGcX3JReMEnyJ6sBNlJvZ\n",
      "To: /content/tiny.csv.zip\n",
      "\r",
      "  0% 0.00/6.87M [00:00<?, ?B/s]\r",
      "100% 6.87M/6.87M [00:00<00:00, 95.0MB/s]\n",
      "Archive:  tiny.csv.zip\n",
      "  inflating: tiny.csv                \n"
     ]
    }
   ],
   "source": [
    "!gdown 12urSB0j_bMKhGcX3JReMEnyJ6sBNlJvZ\n",
    "!unzip -u tiny.csv.zip\n",
    "!rm tiny.csv.zip\n",
    "FILENAME=\"tiny.csv\"\n"
   ]
  },
  {
   "cell_type": "markdown",
   "metadata": {
    "id": "bjWTRGvVXle6"
   },
   "source": [
    "Alternatively, run the following cell to download the **default** dataset. You can download the file to your computer using this URL: \n",
    "https://drive.google.com/file/d/1sUVxmBiKBalWOVwEf2lcm1xVHRQK1t_A"
   ]
  },
  {
   "cell_type": "code",
   "execution_count": null,
   "metadata": {
    "colab": {
     "base_uri": "https://localhost:8080/"
    },
    "executionInfo": {
     "elapsed": 6214,
     "status": "ok",
     "timestamp": 1668945772528,
     "user": {
      "displayName": "adrien.justus@gmx.net",
      "userId": "09874997818800184251"
     },
     "user_tz": 0
    },
    "id": "J0lCXnDaW2hA",
    "outputId": "52cd137a-82af-42fa-88d1-080043b9bf61"
   },
   "outputs": [
    {
     "name": "stdout",
     "output_type": "stream",
     "text": [
      "Downloading...\n",
      "From: https://drive.google.com/uc?id=1sUVxmBiKBalWOVwEf2lcm1xVHRQK1t_A\n",
      "To: /content/sample.csv.zip\n",
      "100% 136M/136M [00:00<00:00, 253MB/s]\n",
      "Archive:  sample.csv.zip\n",
      "  inflating: sample.csv              \n"
     ]
    }
   ],
   "source": [
    "!gdown 1sUVxmBiKBalWOVwEf2lcm1xVHRQK1t_A\n",
    "!unzip -u sample.csv.zip\n",
    "!rm sample.csv.zip\n",
    "FILENAME=\"sample.csv\"\n"
   ]
  },
  {
   "cell_type": "markdown",
   "metadata": {
    "id": "A07F-clqaIJ0"
   },
   "source": [
    "You can still run the following cell (this will take some time) to download a **huge** dataset - with 33GB !!! You can download the file to you computer using this URL: https://drive.google.com/file/d/1YmCNSZzLTXqPVVWG8D6uVRjPMtkcnTt5/view?usp=share_link\n",
    "\n",
    "Use this dataset **only** for computing the result of exercise 0."
   ]
  },
  {
   "cell_type": "code",
   "execution_count": null,
   "metadata": {
    "id": "jZt-3spMaJWd"
   },
   "outputs": [],
   "source": [
    "!gdown 1YmCNSZzLTXqPVVWG8D6uVRjPMtkcnTt5\n",
    "!unzip -u sorted_data.csv.zip\n",
    "!rm sorted_data.csv.zip\n",
    "FILENAME=\"sorted_data.csv\"\n"
   ]
  },
  {
   "cell_type": "markdown",
   "metadata": {
    "id": "9tS5d7DFfA4z"
   },
   "source": [
    "## Initialization\n",
    "\n",
    "import libraries."
   ]
  },
  {
   "cell_type": "code",
   "execution_count": 8,
   "metadata": {
    "colab": {
     "base_uri": "https://localhost:8080/"
    },
    "executionInfo": {
     "elapsed": 2607,
     "status": "ok",
     "timestamp": 1670231219353,
     "user": {
      "displayName": "Frank Andreas Bauer",
      "userId": "08974877831175836730"
     },
     "user_tz": 0
    },
    "id": "7mz-FtBGfIu0",
    "outputId": "1d8fa190-2c5f-4931-c40b-711394a9aef4"
   },
   "outputs": [
    {
     "name": "stderr",
     "output_type": "stream",
     "text": [
      "WARNING:root:'PYARROW_IGNORE_TIMEZONE' environment variable was not set. It is required to set this environment variable to '1' in both driver and executor sides if you use pyarrow>=2.0.0. pandas-on-Spark will set it for you but it does not work if there is a Spark context already launched.\n"
     ]
    }
   ],
   "source": [
    "import os\n",
    "import time\n",
    "import pandas as pd\n",
    "import numpy as np\n",
    "import matplotlib.pyplot as plt\n",
    "import pyspark\n",
    "import pyspark.pandas as ps\n",
    "from pyspark.sql import SparkSession\n",
    "from pyspark.sql.types import *\n",
    "from pyspark.sql.functions import *\n",
    "from pyspark.ml.linalg import Vectors\n",
    "from pyspark.ml.clustering import KMeans\n",
    "from pyspark.ml.evaluation import *\n",
    "from pyspark.ml.feature import *\n",
    "from sklearn.preprocessing import LabelEncoder \n",
    "from sklearn.linear_model import LogisticRegression\n",
    "from sklearn.model_selection import train_test_split\n",
    "from sklearn import metrics\n",
    "import seaborn as sns\n",
    "\n",
    "from mpl_toolkits.mplot3d import Axes3D\n",
    "from matplotlib.patches import FancyArrowPatch\n",
    "from mpl_toolkits.mplot3d import proj3d\n",
    "\n",
    "plt.style.use('seaborn')\n"
   ]
  },
  {
   "cell_type": "markdown",
   "metadata": {
    "id": "IpV8-ZlbfYQE"
   },
   "source": [
    "Let's start spark session and set *log* level to ERROR."
   ]
  },
  {
   "cell_type": "code",
   "execution_count": 9,
   "metadata": {
    "executionInfo": {
     "elapsed": 8124,
     "status": "ok",
     "timestamp": 1670231227476,
     "user": {
      "displayName": "Frank Andreas Bauer",
      "userId": "08974877831175836730"
     },
     "user_tz": 0
    },
    "id": "XiIGD1tyfTy2"
   },
   "outputs": [],
   "source": [
    "spark = SparkSession.builder \\\n",
    "    .master(\"local\") \\\n",
    "    .appName(\"Group project\") \\\n",
    "    .config(\"spark.sql.execution.arrow.pyspark.enabled\", \"true\") \\\n",
    "    .getOrCreate()\n",
    "\n",
    "if IN_COLAB : \n",
    "    spark.sparkContext.addPyFile('graphframes-0.8.2-spark3.2-s_2.12.jar')\n",
    "else:\n",
    "    spark.sparkContext.addPyFile('/usr/local/spark/jars/graphframes-0.8.2-spark3.2-s_2.12.jar')\n",
    "\n",
    "spark.sparkContext.setCheckpointDir(\"checkpoint\")\n"
   ]
  },
  {
   "cell_type": "markdown",
   "metadata": {
    "application/vnd.databricks.v1+cell": {
     "inputWidgets": {},
     "nuid": "d1a78a0d-54dd-4171-afe4-2427474f781e",
     "showTitle": false,
     "title": ""
    },
    "id": "E5XmhC1lOF4Q"
   },
   "source": [
    "## Simple statistics\n",
    "\n",
    "First program prints simple statistics."
   ]
  },
  {
   "cell_type": "code",
   "execution_count": 10,
   "metadata": {
    "application/vnd.databricks.v1+cell": {
     "inputWidgets": {},
     "nuid": "4b8683ef-8e47-4517-b023-9417fdcd5d85",
     "showTitle": false,
     "title": ""
    },
    "colab": {
     "base_uri": "https://localhost:8080/"
    },
    "executionInfo": {
     "elapsed": 24201,
     "status": "ok",
     "timestamp": 1670231251674,
     "user": {
      "displayName": "Frank Andreas Bauer",
      "userId": "08974877831175836730"
     },
     "user_tz": 0
    },
    "id": "V30jhVL6OF4Q",
    "outputId": "cac88ea8-4e98-4aa7-d7cb-53d22bd749e4"
   },
   "outputs": [
    {
     "name": "stdout",
     "output_type": "stream",
     "text": [
      "+-------------+-----------+-------------------+-------------------+-------------+-----------------+----------------+\n",
      "|num_medallion|num_license|         min_pickup|        max_dropoff|max_trip_time|max_trip_distance|max_total_amount|\n",
      "+-------------+-----------+-------------------+-------------------+-------------+-----------------+----------------+\n",
      "|         6467|       9614|2013-01-01 00:00:00|2013-01-01 12:22:00|        10800|            50.47|          321.05|\n",
      "+-------------+-----------+-------------------+-------------------+-------------+-----------------+----------------+\n",
      "\n"
     ]
    }
   ],
   "source": [
    "spark = SparkSession \\\n",
    "    .builder \\\n",
    "    .master(\"local[*]\") \\\n",
    "    .appName(\"Group project\") \\\n",
    "    .getOrCreate()\n",
    "\n",
    "mySchema = StructType([\n",
    "    StructField(\"medallion\", StringType()),\n",
    "    StructField(\"hack_license\", StringType()),\n",
    "    StructField(\"pickup_datetime\", TimestampType()),\n",
    "    StructField(\"dropoff_datetime\", TimestampType()),\n",
    "    StructField(\"trip_time_in_secs\", IntegerType()),\n",
    "    StructField(\"trip_distance\", DoubleType()),\n",
    "    StructField(\"pickup_longitude\", DoubleType()),\n",
    "    StructField(\"pickup_latitude\", DoubleType()),\n",
    "    StructField(\"dropoff_longitude\", DoubleType()),\n",
    "    StructField(\"dropoff_latitude\", DoubleType()),\n",
    "    StructField(\"payment_type\", StringType()),\n",
    "    StructField(\"fare_amount\", DoubleType()),\n",
    "    StructField(\"surcharge\", DoubleType()),\n",
    "    StructField(\"mta_tax\", DoubleType()),\n",
    "    StructField(\"tip_amount\", DoubleType()),\n",
    "    StructField(\"tolls_amount\", DoubleType()),\n",
    "    StructField(\"total_amount\", DoubleType()),\n",
    "])\n",
    "\n",
    "dataset = spark.read.load(FILENAME, format=\"csv\", \n",
    "                         sep=\",\", schema=mySchema, header=\"false\")\n",
    "dataset.createOrReplaceTempView(\"data\")\n",
    "\n",
    "statistics = spark.sql( \"\"\"SELECT COUNT( DISTINCT medallion) AS num_medallion, \n",
    "                                  COUNT( DISTINCT hack_license) AS num_license,\n",
    "                                  MIN( pickup_datetime) AS min_pickup,\n",
    "                                  MAX( dropoff_datetime) AS max_dropoff,\n",
    "                                  MAX( trip_time_in_secs) AS max_trip_time,\n",
    "                                  MAX( trip_distance) AS max_trip_distance,\n",
    "                                  MAX( total_amount) AS max_total_amount\n",
    "                                  FROM data\"\"\")\n",
    "statistics.show()\n"
   ]
  },
  {
   "cell_type": "markdown",
   "metadata": {
    "application/vnd.databricks.v1+cell": {
     "inputWidgets": {},
     "nuid": "62d35c1d-ee12-4dba-a04f-0c587b37dbbc",
     "showTitle": false,
     "title": ""
    },
    "id": "o9gEfRhFOF4R"
   },
   "source": [
    "## Ploting information\n",
    "\n",
    "Example on how to plot information using matplotlib."
   ]
  },
  {
   "cell_type": "markdown",
   "metadata": {
    "application/vnd.databricks.v1+cell": {
     "inputWidgets": {},
     "nuid": "f3458188-7f50-4c67-bac8-d0c2aab3daf7",
     "showTitle": false,
     "title": ""
    },
    "id": "tthC4YQtOF4S"
   },
   "source": [
    "### First plot\n",
    "\n",
    "This first plot helps showing that data has several invalid values.\n",
    "\n",
    "Let's plot the pickups - you can see that there are points quite far from the expected locations. "
   ]
  },
  {
   "cell_type": "code",
   "execution_count": 15,
   "metadata": {
    "application/vnd.databricks.v1+cell": {
     "inputWidgets": {},
     "nuid": "d49038ab-9e5f-4e5b-a40f-a8bc65cd5db4",
     "showTitle": false,
     "title": ""
    },
    "colab": {
     "base_uri": "https://localhost:8080/",
     "height": 364
    },
    "executionInfo": {
     "elapsed": 517,
     "status": "ok",
     "timestamp": 1670231337608,
     "user": {
      "displayName": "Frank Andreas Bauer",
      "userId": "08974877831175836730"
     },
     "user_tz": 0
    },
    "id": "abbhlj0eOF4S",
    "outputId": "7489780b-f171-43e3-ca60-e51ad2a35374"
   },
   "outputs": [
    {
     "name": "stdout",
     "output_type": "stream",
     "text": [
      "Plotting pickups\n"
     ]
    },
    {
     "data": {
      "image/png": "[encoded data removed]",
      "text/plain": [
       "<Figure size 576x396 with 1 Axes>"
      ]
     },
     "metadata": {},
     "output_type": "display_data"
    }
   ],
   "source": [
    "spark = SparkSession \\\n",
    "    .builder \\\n",
    "    .master(\"local[*]\") \\\n",
    "    .appName(\"Group project\") \\\n",
    "    .getOrCreate()\n",
    "\n",
    "mySchema = StructType([\n",
    "    StructField(\"medallion\", StringType()),\n",
    "    StructField(\"hack_license\", StringType()),\n",
    "    StructField(\"pickup_datetime\", TimestampType()),\n",
    "    StructField(\"dropoff_datetime\", TimestampType()),\n",
    "    StructField(\"trip_time_in_secs\", IntegerType()),\n",
    "    StructField(\"trip_distance\", DoubleType()),\n",
    "    StructField(\"pickup_longitude\", DoubleType()),\n",
    "    StructField(\"pickup_latitude\", DoubleType()),\n",
    "    StructField(\"dropoff_longitude\", DoubleType()),\n",
    "    StructField(\"dropoff_latitude\", DoubleType()),\n",
    "    StructField(\"payment_type\", StringType()),\n",
    "    StructField(\"fare_amount\", DoubleType()),\n",
    "    StructField(\"surcharge\", DoubleType()),\n",
    "    StructField(\"mta_tax\", DoubleType()),\n",
    "    StructField(\"tip_amount\", DoubleType()),\n",
    "    StructField(\"tolls_amount\", DoubleType()),\n",
    "    StructField(\"total_amount\", DoubleType()),\n",
    "])\n",
    "\n",
    "dataset = spark.read.load(FILENAME, format=\"csv\", \n",
    "                         sep=\",\", schema=mySchema, header=\"false\")\n",
    "dataset.createOrReplaceTempView(\"data\")\n",
    "\n",
    "# Plotting all points is probably too much in many computers, so lets plot only a few 1000's\n",
    "data1000 = spark.sql( \"SELECT * FROM data LIMIT 1000\")\n",
    "pickups = data1000.collect()\n",
    "\n",
    "print('Plotting pickups')\n",
    "plt.scatter([row.pickup_longitude for row in pickups],\n",
    "            [row.pickup_latitude for row in pickups],\n",
    "            s=1)\n",
    "plt.show()\n"
   ]
  },
  {
   "cell_type": "markdown",
   "metadata": {
    "application/vnd.databricks.v1+cell": {
     "inputWidgets": {},
     "nuid": "fa71110e-d0bf-4340-8a4b-7b14085175a9",
     "showTitle": false,
     "title": ""
    },
    "id": "vmCpd3q-OF4T"
   },
   "source": [
    "### Plotting heatamps\n",
    "\n",
    "This example shows how to **plot heatmaps** and how to **create a grid** with coordinates -- note that we need to group nearby coordinates together or (almost) every coordinate will be unique.\n",
    "\n",
    "The example creates a grid, with cell of 150m of side (commented out the code for cells of 500m of side). It also filters out data that is outside of the area of interest - defined by northLatitude, southLatitude, westLatitude, eastLatitude coordinates.\n",
    "\n",
    "\\[From ACM DEBS 2015 Grand Challenge page\\]\n",
    "\n",
    "**Question 1**: Is the earth flat or how to map coordinates to cells?\n",
    "\n",
    "**Answer**: For the challenge we allow a simplified flat earth assumption for mapping coordinates to cells in the queries. You can assume that a distance of 500 meter south corresponds to a change of 0.004491556 degrees in the coordinate system. For moving 500 meter east you can assume a change of 0.005986 degrees in the coordinate system."
   ]
  },
  {
   "cell_type": "code",
   "execution_count": 14,
   "metadata": {
    "application/vnd.databricks.v1+cell": {
     "inputWidgets": {},
     "nuid": "e304fc50-bd5b-46b1-8ad1-6da0d2bb9663",
     "showTitle": false,
     "title": ""
    },
    "colab": {
     "base_uri": "https://localhost:8080/",
     "height": 711
    },
    "executionInfo": {
     "elapsed": 6800,
     "status": "ok",
     "timestamp": 1670231337094,
     "user": {
      "displayName": "Frank Andreas Bauer",
      "userId": "08974877831175836730"
     },
     "user_tz": 0
    },
    "id": "drfT005LOF4T",
    "outputId": "d72c4d15-83cc-4406-8282-8e102f41a03b"
   },
   "outputs": [
    {
     "name": "stdout",
     "output_type": "stream",
     "text": [
      "Plotting pickups\n"
     ]
    },
    {
     "data": {
      "image/png": "[encoded data removed]",
      "text/plain": [
       "<Figure size 576x396 with 2 Axes>"
      ]
     },
     "metadata": {},
     "output_type": "display_data"
    },
    {
     "name": "stdout",
     "output_type": "stream",
     "text": [
      "Plotting dropoffs\n"
     ]
    },
    {
     "data": {
      "image/png": "[encoded data removed]",
      "text/plain": [
       "<Figure size 576x396 with 2 Axes>"
      ]
     },
     "metadata": {},
     "output_type": "display_data"
    }
   ],
   "source": [
    "spark = SparkSession \\\n",
    "    .builder \\\n",
    "    .master(\"local[*]\") \\\n",
    "    .appName(\"Group project\") \\\n",
    "    .getOrCreate()\n",
    "\n",
    "# Squares of 500 meters\n",
    "latitudeStep = 0.004491556\n",
    "longitudeStep = 0.005986\n",
    "northLatitude = 41.474937 - 0.5 * latitudeStep\n",
    "southLatitude = northLatitude - 300 * latitudeStep\n",
    "eastLongitude = -74.913585 - 0.5 * longitudeStep\n",
    "westLongitude = eastLongitude + 300 * longitudeStep\n",
    "\n",
    "# Squares of 150 meters\n",
    "#latitudeStep = 0.0013474668\n",
    "#longitudeStep = 0.0017958\n",
    "#northLatitude = 40.95\n",
    "#southLatitude = northLatitude - 300 * latitudeStep\n",
    "#eastLongitude = -74.2\n",
    "#westLongitude = eastLongitude + 300 * longitudeStep\n",
    "\n",
    "# function to round longitude to a point in the middle of the square\n",
    "def longiRound( val):\n",
    "    return ((val - eastLongitude) // longitudeStep) * longitudeStep + eastLongitude + longitudeStep / 2\n",
    "spark.udf.register(\"longround\", longiRound, DoubleType())\n",
    "\n",
    "# function to round latitude to a point in the middle of the square\n",
    "def latRound( l):\n",
    "    return northLatitude - ((northLatitude - l) // latitudeStep) * latitudeStep - latitudeStep / 2\n",
    "spark.udf.register(\"latround\", latRound, DoubleType())\n",
    "\n",
    "mySchema = StructType([\n",
    "    StructField(\"medallion\", StringType()),\n",
    "    StructField(\"hack_license\", StringType()),\n",
    "    StructField(\"pickup_datetime\", TimestampType()),\n",
    "    StructField(\"dropoff_datetime\", TimestampType()),\n",
    "    StructField(\"trip_time_in_secs\", IntegerType()),\n",
    "    StructField(\"trip_distance\", DoubleType()),\n",
    "    StructField(\"pickup_longitude\", DoubleType()),\n",
    "    StructField(\"pickup_latitude\", DoubleType()),\n",
    "    StructField(\"dropoff_longitude\", DoubleType()),\n",
    "    StructField(\"dropoff_latitude\", DoubleType()),\n",
    "    StructField(\"payment_type\", StringType()),\n",
    "    StructField(\"fare_amount\", DoubleType()),\n",
    "    StructField(\"surcharge\", DoubleType()),\n",
    "    StructField(\"mta_tax\", DoubleType()),\n",
    "    StructField(\"tip_amount\", DoubleType()),\n",
    "    StructField(\"tolls_amount\", DoubleType()),\n",
    "    StructField(\"total_amount\", DoubleType()),\n",
    "])\n",
    "\n",
    "dataset = spark.read.load(FILENAME, format=\"csv\", \n",
    "                         sep=\",\", schema=mySchema, header=\"false\")\n",
    "\n",
    "# Let's filter data outside of the box and build a grid\n",
    "# Points in each square are mapped to the center of the square.\n",
    "dataset.createOrReplaceTempView(\"data\")\n",
    "filteredDataDF = spark.sql( \"\"\"SELECT medallion, hack_license, pickup_datetime,\n",
    "                                    dropoff_datetime, trip_time_in_secs, trip_distance,\n",
    "                                    longround(pickup_longitude) AS pickup_longitude, \n",
    "                                    latround(pickup_latitude) AS pickup_latitude,\n",
    "                                    longround(dropoff_longitude) AS dropoff_longitude, \n",
    "                                    latround(dropoff_latitude) AS dropoff_latitude, \n",
    "                                    payment_type, fare_amount, mta_tax, \n",
    "                                    tip_amount, tolls_amount, total_amount\n",
    "                                  FROM data\n",
    "                                  WHERE pickup_longitude >= \"\"\" + str(eastLongitude) + \"\"\" AND\n",
    "                                  pickup_longitude <=  \"\"\" + str(westLongitude) + \"\"\" AND\n",
    "                                  dropoff_longitude >=  \"\"\" + str(eastLongitude) + \"\"\" AND\n",
    "                                  dropoff_longitude <=  \"\"\" + str(westLongitude) + \"\"\" AND\n",
    "                                  pickup_latitude <= \"\"\" + str(northLatitude) + \"\"\" AND\n",
    "                                  pickup_latitude >= \"\"\" + str(southLatitude) + \"\"\" AND\n",
    "                                  dropoff_latitude <=  \"\"\" + str(northLatitude) + \"\"\" AND\n",
    "                                  dropoff_latitude >=  \"\"\" + str(southLatitude))\n",
    "filteredDataDF.createOrReplaceTempView(\"data\")\n",
    "\n",
    "# Frequency for pickups\n",
    "pickupsDF = spark.sql( \"\"\"SELECT pickup_longitude, pickup_latitude, count(*) AS cnt\n",
    "                                  FROM data\n",
    "                                  GROUP BY pickup_longitude, pickup_latitude\"\"\")\n",
    "pickups = pickupsDF.collect()\n",
    "\n",
    "print('Plotting pickups')\n",
    "p = plt.scatter([row.pickup_longitude for row in pickups],\n",
    "            [row.pickup_latitude for row in pickups],\n",
    "            c=[row.cnt for row in pickups],s=1,cmap=\"rainbow\")\n",
    "plt.colorbar(p)\n",
    "plt.show()\n",
    "\n",
    "# Statistics for dropoffs\n",
    "dropoffsDF = spark.sql( \"\"\"SELECT dropoff_longitude, dropoff_latitude, count(*) AS cnt\n",
    "                                  FROM data\n",
    "                                  GROUP BY dropoff_longitude, dropoff_latitude\"\"\")\n",
    "dropoffs = dropoffsDF.collect()\n",
    "\n",
    "print('Plotting dropoffs')\n",
    "p = plt.scatter([row.dropoff_longitude for row in dropoffs],\n",
    "            [row.dropoff_latitude for row in dropoffs],\n",
    "            c=[row.cnt for row in dropoffs],s=1,cmap=\"rainbow\")\n",
    "plt.colorbar(p)\n",
    "plt.show()\n",
    "\n"
   ]
  },
  {
   "cell_type": "markdown",
   "metadata": {
    "application/vnd.databricks.v1+cell": {
     "inputWidgets": {},
     "nuid": "d9eb532f-aee3-4732-8db8-9b627a785c47",
     "showTitle": false,
     "title": ""
    },
    "id": "qidSZWeTOF4U"
   },
   "source": [
    "## Exercise 0: another simple statistics\n",
    "\n",
    "This example computes, for each license, the number of trips performed.\n",
    "\n",
    "We have the code using Spark and Pandas, printing the time for doing the computation.\n",
    "**Draw some conclusions** by comparing the time for performing the computation using Spark and Pandas, and also when using the different datasets - **Make sure you run each cell more than once and write down the last value**."
   ]
  },
  {
   "cell_type": "markdown",
   "metadata": {
    "application/vnd.databricks.v1+cell": {
     "inputWidgets": {},
     "nuid": "9e667272-66f4-4789-9136-69fe489293b8",
     "showTitle": false,
     "title": ""
    },
    "id": "y4UIp-puOF4U"
   },
   "source": [
    "### Code: Spark"
   ]
  },
  {
   "cell_type": "code",
   "execution_count": 16,
   "metadata": {
    "application/vnd.databricks.v1+cell": {
     "inputWidgets": {},
     "nuid": "aa3a555d-41ce-4301-bb60-9c13bacb2b0c",
     "showTitle": false,
     "title": ""
    },
    "colab": {
     "base_uri": "https://localhost:8080/"
    },
    "executionInfo": {
     "elapsed": 8,
     "status": "ok",
     "timestamp": 1670231348989,
     "user": {
      "displayName": "Frank Andreas Bauer",
      "userId": "08974877831175836730"
     },
     "user_tz": 0
    },
    "id": "ZndZwASXOF4U",
    "outputId": "d3963bf9-7eb4-424a-e219-2f17d06de9c3"
   },
   "outputs": [
    {
     "name": "stdout",
     "output_type": "stream",
     "text": [
      "+--------------------+---+\n",
      "|        hack_license|cnt|\n",
      "+--------------------+---+\n",
      "|130328475AD7427AF...| 10|\n",
      "|D4F2AE0988ECB2E42...|  9|\n",
      "|DD97899ACAC51EF31...|  7|\n",
      "|A7C47E60941315A0E...| 17|\n",
      "|9911D66A4A796752D...|  8|\n",
      "|88CB7A1006DB18438...| 24|\n",
      "|069B5562096AF7684...|  7|\n",
      "|28A7C858D9231A3EC...| 20|\n",
      "|A7EE9AEDB7325F55F...| 18|\n",
      "|4B6EFCBC110DB539E...| 17|\n",
      "|AA33AA1CACC8C26E7...| 10|\n",
      "|921E1C7C91CDCF1C6...| 19|\n",
      "|616E057B1ACDB7B28...| 15|\n",
      "|EFA12B2F45FC838E1...| 14|\n",
      "|D0D1271283601BF84...| 27|\n",
      "|138B0A7B7D3B898E4...| 12|\n",
      "|0FBF11956EE14B253...| 11|\n",
      "|8821CA9250E34A869...| 28|\n",
      "|BE047851D97506885...|  7|\n",
      "|02856AFC22881ABCA...| 16|\n",
      "+--------------------+---+\n",
      "only showing top 20 rows\n",
      "\n",
      "Runtime = 1.185741901397705\n"
     ]
    }
   ],
   "source": [
    "spark = SparkSession \\\n",
    "    .builder \\\n",
    "    .master(\"local[*]\") \\\n",
    "    .appName(\"Group project\") \\\n",
    "    .getOrCreate()\n",
    "\n",
    "start_time = time.time()\n",
    "mySchema = StructType([\n",
    "    StructField(\"medallion\", StringType()),\n",
    "    StructField(\"hack_license\", StringType()),\n",
    "    StructField(\"pickup_datetime\", TimestampType()),\n",
    "    StructField(\"dropoff_datetime\", TimestampType()),\n",
    "    StructField(\"trip_time_in_secs\", IntegerType()),\n",
    "    StructField(\"trip_distance\", DoubleType()),\n",
    "    StructField(\"pickup_longitude\", DoubleType()),\n",
    "    StructField(\"pickup_latitude\", DoubleType()),\n",
    "    StructField(\"dropoff_longitude\", DoubleType()),\n",
    "    StructField(\"dropoff_latitude\", DoubleType()),\n",
    "    StructField(\"payment_type\", StringType()),\n",
    "    StructField(\"fare_amount\", DoubleType()),\n",
    "    StructField(\"surcharge\", DoubleType()),\n",
    "    StructField(\"mta_tax\", DoubleType()),\n",
    "    StructField(\"tip_amount\", DoubleType()),\n",
    "    StructField(\"tolls_amount\", DoubleType()),\n",
    "    StructField(\"total_amount\", DoubleType()),\n",
    "])\n",
    "\n",
    "dataset = spark.read.load(FILENAME, format=\"csv\", \n",
    "                         sep=\",\", schema=mySchema, header=\"false\")\n",
    "dataset.createOrReplaceTempView(\"data\")\n",
    "statistics = spark.sql( \"\"\"SELECT hack_license, COUNT(*) AS cnt FROM data GROUP BY hack_license\"\"\")\n",
    "statistics.show()\n",
    "\n",
    "end_time = time.time()\n",
    "\n",
    "print( \"Runtime = \" + str(end_time - start_time))\n"
   ]
  },
  {
   "cell_type": "markdown",
   "metadata": {
    "application/vnd.databricks.v1+cell": {
     "inputWidgets": {},
     "nuid": "cea0ff85-3d10-4a6a-b24a-4cc66b780f3c",
     "showTitle": false,
     "title": ""
    },
    "id": "fyRTjhaZOF4U"
   },
   "source": [
    "### Results (Spark)\n",
    "\n",
    "**Tiny dataset**\n",
    "\n",
    "The time to process was : **1.01** seconds.\n",
    "\n",
    "**Default dataset**\n",
    "\n",
    "The time to process was : **8.36** seconds.\n",
    "\n",
    "**Large dataset**\n",
    "\n",
    "The time to process was : **782** seconds.\n"
   ]
  },
  {
   "cell_type": "markdown",
   "metadata": {
    "application/vnd.databricks.v1+cell": {
     "inputWidgets": {},
     "nuid": "fbceb57e-91d7-430a-8406-ad44dec1b38a",
     "showTitle": false,
     "title": ""
    },
    "id": "9z_yPC3rOF4V"
   },
   "source": [
    "### Code: Pandas library"
   ]
  },
  {
   "cell_type": "code",
   "execution_count": 17,
   "metadata": {
    "application/vnd.databricks.v1+cell": {
     "inputWidgets": {},
     "nuid": "2708ac4e-177f-4c8b-a7c3-b9ebe08a55f2",
     "showTitle": false,
     "title": ""
    },
    "colab": {
     "base_uri": "https://localhost:8080/"
    },
    "executionInfo": {
     "elapsed": 879,
     "status": "ok",
     "timestamp": 1670231357719,
     "user": {
      "displayName": "Frank Andreas Bauer",
      "userId": "08974877831175836730"
     },
     "user_tz": 0
    },
    "id": "22aJB9HqOF4V",
    "outputId": "343a2f37-9a13-4229-f1ec-ff4165b3c958"
   },
   "outputs": [
    {
     "name": "stdout",
     "output_type": "stream",
     "text": [
      "                                  medallion  pickup_datetime  \\\n",
      "hack_license                                                   \n",
      "000CCA239BFDC0ABE2895AC9086C4290         11               11   \n",
      "001C8AAB90AEE49F36FCAA7B4136C81A         14               14   \n",
      "0025133AD810DBE80D35FCA8BF0BCA1F         11               11   \n",
      "002FE84F0EA642650A650C2BE875DDD3          1                1   \n",
      "0031E634F79DA0E6B01239A8017F5928          1                1   \n",
      "...                                     ...              ...   \n",
      "FFEE627F76A3A498DA53E200821FDEE9          6                6   \n",
      "FFF20BA1518E14B3B23F79DDDE1CA7E6          8                8   \n",
      "FFF5AD65C673251C1F275CF5B43EC414          1                1   \n",
      "FFF657CFEC6A06384C97ACB500916913          4                4   \n",
      "FFF909B1353148850AD3E40BB878618B         10               10   \n",
      "\n",
      "                                  dropoff_datetime  trip_time_in_secs  \\\n",
      "hack_license                                                            \n",
      "000CCA239BFDC0ABE2895AC9086C4290                11                 11   \n",
      "001C8AAB90AEE49F36FCAA7B4136C81A                14                 14   \n",
      "0025133AD810DBE80D35FCA8BF0BCA1F                11                 11   \n",
      "002FE84F0EA642650A650C2BE875DDD3                 1                  1   \n",
      "0031E634F79DA0E6B01239A8017F5928                 1                  1   \n",
      "...                                            ...                ...   \n",
      "FFEE627F76A3A498DA53E200821FDEE9                 6                  6   \n",
      "FFF20BA1518E14B3B23F79DDDE1CA7E6                 8                  8   \n",
      "FFF5AD65C673251C1F275CF5B43EC414                 1                  1   \n",
      "FFF657CFEC6A06384C97ACB500916913                 4                  4   \n",
      "FFF909B1353148850AD3E40BB878618B                10                 10   \n",
      "\n",
      "                                  trip_distance  pickup_longitude  \\\n",
      "hack_license                                                        \n",
      "000CCA239BFDC0ABE2895AC9086C4290             11                11   \n",
      "001C8AAB90AEE49F36FCAA7B4136C81A             14                14   \n",
      "0025133AD810DBE80D35FCA8BF0BCA1F             11                11   \n",
      "002FE84F0EA642650A650C2BE875DDD3              1                 1   \n",
      "0031E634F79DA0E6B01239A8017F5928              1                 1   \n",
      "...                                         ...               ...   \n",
      "FFEE627F76A3A498DA53E200821FDEE9              6                 6   \n",
      "FFF20BA1518E14B3B23F79DDDE1CA7E6              8                 8   \n",
      "FFF5AD65C673251C1F275CF5B43EC414              1                 1   \n",
      "FFF657CFEC6A06384C97ACB500916913              4                 4   \n",
      "FFF909B1353148850AD3E40BB878618B             10                10   \n",
      "\n",
      "                                  pickup_latitude  dropoff_longitude  \\\n",
      "hack_license                                                           \n",
      "000CCA239BFDC0ABE2895AC9086C4290               11                 11   \n",
      "001C8AAB90AEE49F36FCAA7B4136C81A               14                 14   \n",
      "0025133AD810DBE80D35FCA8BF0BCA1F               11                 11   \n",
      "002FE84F0EA642650A650C2BE875DDD3                1                  1   \n",
      "0031E634F79DA0E6B01239A8017F5928                1                  1   \n",
      "...                                           ...                ...   \n",
      "FFEE627F76A3A498DA53E200821FDEE9                6                  6   \n",
      "FFF20BA1518E14B3B23F79DDDE1CA7E6                8                  8   \n",
      "FFF5AD65C673251C1F275CF5B43EC414                1                  1   \n",
      "FFF657CFEC6A06384C97ACB500916913                4                  4   \n",
      "FFF909B1353148850AD3E40BB878618B               10                 10   \n",
      "\n",
      "                                  dropoff_latitude  payment_type  fare_amount  \\\n",
      "hack_license                                                                    \n",
      "000CCA239BFDC0ABE2895AC9086C4290                11            11           11   \n",
      "001C8AAB90AEE49F36FCAA7B4136C81A                14            14           14   \n",
      "0025133AD810DBE80D35FCA8BF0BCA1F                11            11           11   \n",
      "002FE84F0EA642650A650C2BE875DDD3                 1             1            1   \n",
      "0031E634F79DA0E6B01239A8017F5928                 1             1            1   \n",
      "...                                            ...           ...          ...   \n",
      "FFEE627F76A3A498DA53E200821FDEE9                 6             6            6   \n",
      "FFF20BA1518E14B3B23F79DDDE1CA7E6                 8             8            8   \n",
      "FFF5AD65C673251C1F275CF5B43EC414                 1             1            1   \n",
      "FFF657CFEC6A06384C97ACB500916913                 4             4            4   \n",
      "FFF909B1353148850AD3E40BB878618B                10            10           10   \n",
      "\n",
      "                                  surcharge  mta_tax  tip_amount  \\\n",
      "hack_license                                                       \n",
      "000CCA239BFDC0ABE2895AC9086C4290         11       11          11   \n",
      "001C8AAB90AEE49F36FCAA7B4136C81A         14       14          14   \n",
      "0025133AD810DBE80D35FCA8BF0BCA1F         11       11          11   \n",
      "002FE84F0EA642650A650C2BE875DDD3          1        1           1   \n",
      "0031E634F79DA0E6B01239A8017F5928          1        1           1   \n",
      "...                                     ...      ...         ...   \n",
      "FFEE627F76A3A498DA53E200821FDEE9          6        6           6   \n",
      "FFF20BA1518E14B3B23F79DDDE1CA7E6          8        8           8   \n",
      "FFF5AD65C673251C1F275CF5B43EC414          1        1           1   \n",
      "FFF657CFEC6A06384C97ACB500916913          4        4           4   \n",
      "FFF909B1353148850AD3E40BB878618B         10       10          10   \n",
      "\n",
      "                                  tolls_amount  total_amount  \n",
      "hack_license                                                  \n",
      "000CCA239BFDC0ABE2895AC9086C4290            11            11  \n",
      "001C8AAB90AEE49F36FCAA7B4136C81A            14            14  \n",
      "0025133AD810DBE80D35FCA8BF0BCA1F            11            11  \n",
      "002FE84F0EA642650A650C2BE875DDD3             1             1  \n",
      "0031E634F79DA0E6B01239A8017F5928             1             1  \n",
      "...                                        ...           ...  \n",
      "FFEE627F76A3A498DA53E200821FDEE9             6             6  \n",
      "FFF20BA1518E14B3B23F79DDDE1CA7E6             8             8  \n",
      "FFF5AD65C673251C1F275CF5B43EC414             1             1  \n",
      "FFF657CFEC6A06384C97ACB500916913             4             4  \n",
      "FFF909B1353148850AD3E40BB878618B            10            10  \n",
      "\n",
      "[9614 rows x 16 columns]\n",
      "Runtime = 0.8517510890960693\n"
     ]
    }
   ],
   "source": [
    "start_time = time.time()\n",
    "mySchema = [\"medallion\", \"hack_license\", \"pickup_datetime\",\n",
    "            \"dropoff_datetime\", \"trip_time_in_secs\", \"trip_distance\",\n",
    "            \"pickup_longitude\", \"pickup_latitude\", \"dropoff_longitude\",\n",
    "            \"dropoff_latitude\", \"payment_type\", \"fare_amount\", \n",
    "            \"surcharge\", \"mta_tax\", \"tip_amount\",\n",
    "            \"tolls_amount\", \"total_amount\"]\n",
    "\n",
    "dataset_csv = pd.read_csv(FILENAME,names=mySchema)\n",
    "result = dataset_csv.groupby(\"hack_license\").count()\n",
    "print(result)\n",
    "\n",
    "end_time = time.time()\n",
    "\n",
    "print( \"Runtime = \" + str(end_time - start_time))\n"
   ]
  },
  {
   "cell_type": "markdown",
   "metadata": {
    "application/vnd.databricks.v1+cell": {
     "inputWidgets": {},
     "nuid": "d81bf814-b05b-4e88-9d6b-b31cbff8a580",
     "showTitle": false,
     "title": ""
    },
    "id": "-SJ_NP18OF4V"
   },
   "source": [
    "### Results (Pandas)\n",
    "\n",
    "**Tiny dataset**\n",
    "\n",
    "The time to process was : **0.48** seconds.\n",
    "\n",
    "**Default dataset**\n",
    "\n",
    "The time to process was : **8.56** seconds.\n",
    "\n",
    "**Large dataset**\n",
    "\n",
    "The time to process was : **Error, kernal died**."
   ]
  },
  {
   "cell_type": "markdown",
   "metadata": {
    "application/vnd.databricks.v1+cell": {
     "inputWidgets": {},
     "nuid": "ae84b317-68ee-4eec-96c7-f010f52b2757",
     "showTitle": false,
     "title": ""
    },
    "id": "JCrTvqsNOF4V"
   },
   "source": [
    "#### Results discussion\n",
    "\n",
    "**TO BE COMPLETED**"
   ]
  },
  {
   "cell_type": "markdown",
   "metadata": {
    "id": "_cL_kCQzvZRC"
   },
   "source": [
    "When looking at the runtimes, it is obvious that the runtime generally increases with the size of the dataset. However, if we only compare the spark times with the pandas time, we notice noticeable differences for each dataset: \n",
    "For the small one, pandas is faster than spark. For the default dataset, spark is slightly quicker and the large dataset is only usable on spark. \n",
    "\n",
    "This is because PySpark is an in-memory, distributed processing engine that allows us to process data efficiently in a distributed fashion, making it more suitable for computations on large datasets compared to pandas. "
   ]
  },
  {
   "cell_type": "markdown",
   "metadata": {
    "id": "PpxIbutGrVRj"
   },
   "source": [
    "## Cleaning Data"
   ]
  },
  {
   "cell_type": "code",
   "execution_count": 11,
   "metadata": {
    "colab": {
     "base_uri": "https://localhost:8080/"
    },
    "executionInfo": {
     "elapsed": 9101,
     "status": "ok",
     "timestamp": 1670231279719,
     "user": {
      "displayName": "Frank Andreas Bauer",
      "userId": "08974877831175836730"
     },
     "user_tz": 0
    },
    "id": "lAFvKIlurWR2",
    "outputId": "28fc5c83-000e-4cd6-ba8c-900860a57a24"
   },
   "outputs": [
    {
     "name": "stdout",
     "output_type": "stream",
     "text": [
      "96268\n",
      "(95847, 19)\n"
     ]
    }
   ],
   "source": [
    "# 1. Delete taxi rides that are not within the coordinates of New York City\n",
    "cleanedDF = dataset[(dataset['pickup_longitude'] < -73) & (dataset['dropoff_latitude'] > 40)]\n",
    "\n",
    "# 2. Delete taxi rides that are either to short or not long enough (also to get rid of 0.0 values)\n",
    "cleanedDF = cleanedDF[(cleanedDF['trip_time_in_secs'] > 60) & (cleanedDF['trip_distance'] > 0.1)]\n",
    "print(cleanedDF.count())\n",
    "\n",
    "cleanedDF = cleanedDF.toPandas()\n",
    "\n",
    "# 3. Delete taxi rides that have way too high or too low fare amounts per time or distance \n",
    "# -> fare amout probably not set correctly by the taxi driver\n",
    "cleanedDF['amountPerDistance'] = cleanedDF['fare_amount']/cleanedDF['trip_distance']\n",
    "cleanedDF = cleanedDF[(cleanedDF['amountPerDistance'] < 50) & (cleanedDF['amountPerDistance'] > 2)]\n",
    "cleanedDF['amountPerSecs'] = cleanedDF['fare_amount']/cleanedDF['trip_time_in_secs']\n",
    "cleanedDF = cleanedDF[(cleanedDF['amountPerSecs'] < 0.1) & (cleanedDF['amountPerSecs'] > 0.01)]\n",
    "print(cleanedDF.shape)"
   ]
  },
  {
   "cell_type": "code",
   "execution_count": 12,
   "metadata": {
    "executionInfo": {
     "elapsed": 5,
     "status": "ok",
     "timestamp": 1670231290996,
     "user": {
      "displayName": "Frank Andreas Bauer",
      "userId": "08974877831175836730"
     },
     "user_tz": 0
    },
    "id": "LxQYlCd4GWqd"
   },
   "outputs": [],
   "source": [
    "clean = spark.createDataFrame(cleanedDF)\n",
    "clean.createOrReplaceTempView(\"dataDF\");\n",
    "spark.sql(\"select count(*) from dataDF\");"
   ]
  },
  {
   "cell_type": "markdown",
   "metadata": {
    "application/vnd.databricks.v1+cell": {
     "inputWidgets": {},
     "nuid": "b5345a02-01de-46da-aaeb-150747d13ae4",
     "showTitle": false,
     "title": ""
    },
    "id": "pvUMvGA5OF4V"
   },
   "source": [
    "## Exercise 1\n",
    "\n",
    "Let's start by trying to help the city to identify which new bus routes should be introduced. To this end, you should find the most frequent routes whose distance is above a given treshold (defined by you).\n",
    "\n",
    "For establishing these routes, we suggest that you use a grid of 500m of side."
   ]
  },
  {
   "cell_type": "code",
   "execution_count": 37,
   "metadata": {
    "colab": {
     "base_uri": "https://localhost:8080/"
    },
    "executionInfo": {
     "elapsed": 4742,
     "status": "ok",
     "timestamp": 1670231676773,
     "user": {
      "displayName": "Frank Andreas Bauer",
      "userId": "08974877831175836730"
     },
     "user_tz": 0
    },
    "id": "JsAhC-wcGc4U",
    "outputId": "f8108ad8-a485-4d4f-9de6-307219986a2e"
   },
   "outputs": [
    {
     "name": "stdout",
     "output_type": "stream",
     "text": [
      "+--------------------+--------------------+------------+\n",
      "|              pickup|             dropoff|count_routes|\n",
      "+--------------------+--------------------+------------+\n",
      "|-73.967797,40.756...|-73.991741,40.751...|          63|\n",
      "|-73.973783,40.756...|-73.991741,40.751...|          62|\n",
      "|-73.955825,40.774...|-73.973783,40.751...|          42|\n",
      "|-73.973783,40.751...|-73.991741,40.751...|          42|\n",
      "|-73.985755,40.765...|-73.991741,40.751...|          41|\n",
      "|-73.991741,40.751...|-73.979769,40.751...|          40|\n",
      "|-73.967797,40.760...|-73.967797,40.760...|          40|\n",
      "|-73.991741,40.769...|-73.991741,40.751...|          39|\n",
      "|-73.985755,40.720...|-73.979769,40.742...|          38|\n",
      "|-73.985755,40.729...|-73.991741,40.747...|          38|\n",
      "+--------------------+--------------------+------------+\n",
      "\n"
     ]
    }
   ],
   "source": [
    "# most common routes with threshold > 1 mile\n",
    "exercise1 = spark.sql( \"\"\"SELECT \n",
    "                            CONCAT(longround(pickup_longitude),\",\", latround(pickup_latitude)) AS pickup, \n",
    "                            CONCAT(longround(dropoff_longitude),\",\", latround(dropoff_latitude)) AS dropoff, \n",
    "                            COUNT(medallion) AS count_routes\n",
    "                            FROM dataDF\n",
    "                          WHERE trip_distance > 1\n",
    "                          GROUP BY\n",
    "                            pickup, dropoff\n",
    "                          ORDER BY\n",
    "                            count_routes DESC LIMIT 10\n",
    "                          \"\"\")\n",
    "exercise1.show()"
   ]
  },
  {
   "cell_type": "markdown",
   "metadata": {
    "application/vnd.databricks.v1+cell": {
     "inputWidgets": {},
     "nuid": "303faa61-b5b1-4ac9-a08e-905b9e4c5708",
     "showTitle": false,
     "title": ""
    },
    "id": "ZYgizUDAOF4W"
   },
   "source": [
    "#### Discussion\n",
    "\n",
    "**Explain your code and discuss results**"
   ]
  },
  {
   "cell_type": "markdown",
   "metadata": {
    "id": "URpB39srwsWb"
   },
   "source": [
    "First, we decided to use the cleaned dataset, to ensure that we are only using trips within NYC and with a realistic fare amount per distance or time.\n",
    "\n",
    "Next, we created a table grouped by the rounded longitudes and latitudes of each pickup and dropoff location (500m), aggregated by the count of trips. We also defined that a trip should be at least 1 mile, because at this distance it seems reasonable for us to rather use a bus than to walk.\n",
    "\n",
    "We can see that under these restrictions the most popular trip was done 63 times in the exmined timeframe. Also, one one could recommend to, e.g. establish bus routes at every connection that was used over 40 times."
   ]
  },
  {
   "cell_type": "markdown",
   "metadata": {
    "id": "Me1frhAdoEoS"
   },
   "source": [
    "## Exercise 2\n",
    "\n",
    "The taxi trips can be classified in two categories, depending on whether the client has given a tip or not (or alternatively in three categories - no tip, low percentage tip, high percentage tip). Propose a method to predict the class of a given trip (for the prediction, you cannot use the value of the tip).\n"
   ]
  },
  {
   "cell_type": "code",
   "execution_count": 20,
   "metadata": {
    "executionInfo": {
     "elapsed": 902,
     "status": "ok",
     "timestamp": 1670231403141,
     "user": {
      "displayName": "Frank Andreas Bauer",
      "userId": "08974877831175836730"
     },
     "user_tz": 0
    },
    "id": "EmIjJ-biCCfo"
   },
   "outputs": [],
   "source": [
    "ex2 = cleanedDF\n",
    "# Create a column with a boolean if a tip was given or not\n",
    "ex2['tip'] = np.where(ex2['tip_amount'] > 0, True, False)\n",
    "\n",
    "# Drop the unknown payment type ('UNK')\n",
    "ex2.drop(ex2[ex2['payment_type'] == 'UNK'].index, inplace = True)\n",
    "\n",
    "# Map the payment type to a number to make it correlate correctly with the column 'tip'\n",
    "mapping = {'CSH': 1, 'CRD': 2}\n",
    "ex2[\"payment_type\"] = ex2[\"payment_type\"].map(mapping)"
   ]
  },
  {
   "cell_type": "code",
   "execution_count": 21,
   "metadata": {
    "colab": {
     "base_uri": "https://localhost:8080/"
    },
    "executionInfo": {
     "elapsed": 331,
     "status": "ok",
     "timestamp": 1670231405934,
     "user": {
      "displayName": "Frank Andreas Bauer",
      "userId": "08974877831175836730"
     },
     "user_tz": 0
    },
    "id": "dp4KEaQPCFD_",
    "outputId": "aeea8a49-bca0-4159-bd84-161a779e2079"
   },
   "outputs": [
    {
     "data": {
      "text/plain": [
       "tip                  1.000000\n",
       "payment_type         0.944800\n",
       "tip_amount           0.671779\n",
       "total_amount         0.163880\n",
       "fare_amount          0.044455\n",
       "trip_time_in_secs    0.043849\n",
       "trip_distance        0.042763\n",
       "amountPerDistance    0.036502\n",
       "surcharge            0.031515\n",
       "pickup_longitude     0.030150\n",
       "tolls_amount         0.026995\n",
       "pickup_latitude      0.025169\n",
       "dropoff_latitude     0.015004\n",
       "mta_tax              0.010435\n",
       "amountPerSecs        0.008174\n",
       "dropoff_longitude    0.007215\n",
       "Name: tip, dtype: float64"
      ]
     },
     "execution_count": 21,
     "metadata": {},
     "output_type": "execute_result"
    }
   ],
   "source": [
    "corrmat = ex2.corr().abs()\n",
    "pearson = corrmat['tip']\n",
    "pearson.sort_values(axis = 0, ascending = False)"
   ]
  },
  {
   "cell_type": "code",
   "execution_count": 22,
   "metadata": {
    "colab": {
     "base_uri": "https://localhost:8080/",
     "height": 483
    },
    "executionInfo": {
     "elapsed": 2428,
     "status": "ok",
     "timestamp": 1670231414153,
     "user": {
      "displayName": "Frank Andreas Bauer",
      "userId": "08974877831175836730"
     },
     "user_tz": 0
    },
    "id": "fEChjUp5CHRm",
    "outputId": "d91e867c-60cb-4c8c-e928-0b4979c6e566"
   },
   "outputs": [
    {
     "data": {
      "image/png": "[encoded data removed]",
      "text/plain": [
       "<Figure size 576x396 with 2 Axes>"
      ]
     },
     "metadata": {},
     "output_type": "display_data"
    },
    {
     "name": "stdout",
     "output_type": "stream",
     "text": [
      "Precision: 0.9352664896875638\n",
      "Recall: 0.9997817070508622\n",
      "Accuracy: 0.9734524356138081\n"
     ]
    }
   ],
   "source": [
    "from sklearn.model_selection import train_test_split\n",
    "from sklearn.preprocessing import StandardScaler\n",
    "from sklearn.linear_model import LogisticRegression\n",
    "from sklearn import metrics\n",
    "\n",
    "X = ex2[['payment_type','fare_amount','trip_time_in_secs', 'trip_distance']] # Features\n",
    "y = ex2['tip'] # Target variable\n",
    "\n",
    "X_train,X_test,y_train,y_test=train_test_split(X,y,test_size=0.25,random_state=2)\n",
    "\n",
    "logreg = LogisticRegression()\n",
    "# fit the model with data\n",
    "logreg.fit(X_train,y_train)\n",
    "y_pred=logreg.predict(X_test)\n",
    "\n",
    "cnf_matrix = metrics.confusion_matrix(y_test, y_pred)\n",
    "cnf_matrix\n",
    "\n",
    "class_names=[0,1] # name  of classes\n",
    "fig, ax = plt.subplots()\n",
    "tick_marks = np.arange(len(class_names))\n",
    "plt.xticks(tick_marks, class_names)\n",
    "plt.yticks(tick_marks, class_names)\n",
    "# create heatmap\n",
    "sns.heatmap(pd.DataFrame(cnf_matrix), annot=True, cmap=\"YlGnBu\" ,fmt='g')\n",
    "ax.xaxis.set_label_position(\"top\")\n",
    "plt.tight_layout()\n",
    "plt.title('Confusion matrix', y=1.1)\n",
    "plt.ylabel('Actual label')\n",
    "plt.xlabel('Predicted label')\n",
    "plt.show()\n",
    "\n",
    "# TN, FP \n",
    "# FN, TP\n",
    "\n",
    "print(\"Precision:\",metrics.precision_score(y_test, y_pred))\n",
    "print(\"Recall:\",metrics.recall_score(y_test, y_pred))\n",
    "print(\"Accuracy:\",metrics.accuracy_score(y_test, y_pred))"
   ]
  },
  {
   "cell_type": "code",
   "execution_count": 23,
   "metadata": {
    "colab": {
     "base_uri": "https://localhost:8080/"
    },
    "executionInfo": {
     "elapsed": 324,
     "status": "ok",
     "timestamp": 1670231429358,
     "user": {
      "displayName": "Frank Andreas Bauer",
      "userId": "08974877831175836730"
     },
     "user_tz": 0
    },
    "id": "N-7T3veVCKzX",
    "outputId": "be24bb8f-029b-46c8-eedb-48e8c000fd74"
   },
   "outputs": [
    {
     "name": "stdout",
     "output_type": "stream",
     "text": [
      "[0.]\n"
     ]
    },
    {
     "data": {
      "text/plain": [
       "tip_amount    1\n",
       "tip           1\n",
       "dtype: int64"
      ]
     },
     "execution_count": 23,
     "metadata": {},
     "output_type": "execute_result"
    }
   ],
   "source": [
    "# This shows that customers paying in cash do not give (recorded) tips\n",
    "ex2_cash = ex2[ex2['payment_type']==1]\n",
    "print(ex2_cash['tip_amount'].unique())\n",
    "ex2_cash[['tip_amount','tip']].nunique()"
   ]
  },
  {
   "cell_type": "code",
   "execution_count": 24,
   "metadata": {
    "colab": {
     "base_uri": "https://localhost:8080/"
    },
    "executionInfo": {
     "elapsed": 271,
     "status": "ok",
     "timestamp": 1670231431759,
     "user": {
      "displayName": "Frank Andreas Bauer",
      "userId": "08974877831175836730"
     },
     "user_tz": 0
    },
    "id": "T4AWmsnGCPa-",
    "outputId": "34c34e54-c179-4a29-fa58-38eaa70e2b79"
   },
   "outputs": [
    {
     "data": {
      "text/plain": [
       "tip_amount    442\n",
       "tip             2\n",
       "dtype: int64"
      ]
     },
     "execution_count": 24,
     "metadata": {},
     "output_type": "execute_result"
    }
   ],
   "source": [
    "# This shows that customers paying with card are often giving a tip\n",
    "ex2_card = ex2[ex2['payment_type']==2]\n",
    "#print(ex2_card['tip_amount'].unique())\n",
    "ex2_card[['tip_amount','tip']].nunique()"
   ]
  },
  {
   "cell_type": "code",
   "execution_count": 25,
   "metadata": {
    "colab": {
     "base_uri": "https://localhost:8080/",
     "height": 498
    },
    "executionInfo": {
     "elapsed": 10,
     "status": "ok",
     "timestamp": 1670231442478,
     "user": {
      "displayName": "Frank Andreas Bauer",
      "userId": "08974877831175836730"
     },
     "user_tz": 0
    },
    "id": "mJz0Eu-0CmZl",
    "outputId": "a72d2ca3-3154-4022-b25b-c098d11f6e94"
   },
   "outputs": [
    {
     "name": "stdout",
     "output_type": "stream",
     "text": [
      "-----------------------------------------------------\n",
      "The mean tip percentage by people paying with card is: 20.27660779327001\n"
     ]
    },
    {
     "name": "stderr",
     "output_type": "stream",
     "text": [
      "<ipython-input-25-85c8c44902e2>:2: SettingWithCopyWarning: \n",
      "A value is trying to be set on a copy of a slice from a DataFrame.\n",
      "Try using .loc[row_indexer,col_indexer] = value instead\n",
      "\n",
      "See the caveats in the documentation: https://pandas.pydata.org/pandas-docs/stable/user_guide/indexing.html#returning-a-view-versus-a-copy\n",
      "  ex2_card['tip_percentage'] = (ex2_card['tip_amount']/ex2_card['fare_amount'])*100\n"
     ]
    },
    {
     "data": {
      "image/png": "[encoded data removed]",
      "text/plain": [
       "<Figure size 576x396 with 1 Axes>"
      ]
     },
     "metadata": {},
     "output_type": "display_data"
    }
   ],
   "source": [
    "# This shows the distribution of tips given by customers paying with card\n",
    "ex2_card['tip_percentage'] = (ex2_card['tip_amount']/ex2_card['fare_amount'])*100\n",
    "ex2_card.hist('tip_percentage',bins=10, range=[0, 100])\n",
    "print('-----------------------------------------------------')\n",
    "print('The mean tip percentage by people paying with card is:', ex2_card['tip_percentage'].mean())"
   ]
  },
  {
   "cell_type": "markdown",
   "metadata": {
    "id": "BGcW8FqACr8d"
   },
   "source": [
    "## **Discussion**\n",
    "\n",
    "A logistic regression is used as a model to classify whether a tip is given or not by the customer. The predicted label is 'tip' (True or False) and the input features are 'payment_type', 'fare_amount','trip_time_in_secs' & 'trip_distance', because they correlate the most with the , especially 'payment_type' with a very strong positive correlation of 0.944800.\n",
    "\n",
    "The model manages to score pretty well. The explanations for that could be the following: In this dataset..\n",
    "*   ... there are no recorded tips by people paying in cash. It can be assumed that tips in cash are deliberately not recoreded by the taxi driver e.g., to avoid taxation.\n",
    "*   ... the great majority of people paying by card give a tip (around 20%) - obviously these tips are tracked, because credit card payments are traceable.\n",
    "\n",
    "Therefore, the classfication model manages to get an almost perfect recall of 0.9997817070508622 (close to 1), because it assumes correctly that people paying by cash will not give a (recorded) tip (FN = only 2). The precision is also very high (0.9352664896875638), yet the model sometimes predicts that a customer has given a tip, even though he has given not one (FP) - you could say that the model supposes that the customers are more \"generous\" with tips than they are in reality.\n",
    "\n",
    "All in all, this leads to a generally high accuracy of 0.9734524356138081."
   ]
  },
  {
   "cell_type": "markdown",
   "metadata": {
    "application/vnd.databricks.v1+cell": {
     "inputWidgets": {},
     "nuid": "127cd86a-9a70-4d72-88c3-33f4880359c8",
     "showTitle": false,
     "title": ""
    },
    "id": "Mc7h2epQOF4W"
   },
   "source": [
    "## Exercise 3\n",
    "\n",
    "The third question intends to help taxi drivers to decide to which area of the city they should go next. To this end, we could have a web site/mobile app where the drivers could check the best area at a given moment. To support such application efficiently, it would be necessary to have a pre-computed index with the value for each area and period of time (e.g. combining the week day and a period of one hour). \n",
    "\n",
    "You should create the program to create such index. The output tuples should be something like: longitude latitude day_of_week hour value.\n",
    "\n",
    "Define your own metric for the value of an area. Parameters that may be included in such metric include: the number of pickups in the area, the amount collected in the trip, the average time a taxi is idle in the area, etc.\n",
    "\n",
    "Besides presenting the code, explain the rationale of your solution.\n",
    "\n",
    "**Note:** SQL functions date(col), dayofweek(col) and hour(col) return, respectively, the date, day of week and hour of a datatime in column col."
   ]
  },
  {
   "cell_type": "code",
   "execution_count": 27,
   "metadata": {
    "application/vnd.databricks.v1+cell": {
     "inputWidgets": {},
     "nuid": "5cd0ce01-1d5f-4993-b068-e799647a576f",
     "showTitle": false,
     "title": ""
    },
    "executionInfo": {
     "elapsed": 706,
     "status": "ok",
     "timestamp": 1670231459031,
     "user": {
      "displayName": "Frank Andreas Bauer",
      "userId": "08974877831175836730"
     },
     "user_tz": 0
    },
    "id": "-fiXM0F7OF4W"
   },
   "outputs": [],
   "source": [
    "#creating a table with the rounded longitude and latitude (500)\n",
    "#dataDF.createOrReplaceTempView(\"dataDF\")\n",
    "\n",
    "spark.sql( \"\"\"SELECT *, \n",
    "              CONCAT(longround(pickup_longitude),\",\", latround(pickup_latitude)) AS pickup, \n",
    "              CONCAT(longround(dropoff_longitude),\",\", latround(dropoff_latitude)) AS dropoff\n",
    "              FROM dataDF\n",
    "           \"\"\").createOrReplaceTempView(\"dataDF3\")\n",
    "\n",
    "DF3 = spark.sql(\"SELECT * FROM dataDF3\")"
   ]
  },
  {
   "cell_type": "code",
   "execution_count": 28,
   "metadata": {
    "colab": {
     "base_uri": "https://localhost:8080/",
     "height": 382
    },
    "executionInfo": {
     "elapsed": 5162,
     "status": "ok",
     "timestamp": 1670231467874,
     "user": {
      "displayName": "Frank Andreas Bauer",
      "userId": "08974877831175836730"
     },
     "user_tz": 0
    },
    "id": "xvtshd8CjaT-",
    "outputId": "d7099317-c154-4615-fa00-e1ab80fca205"
   },
   "outputs": [
    {
     "data": {
      "text/html": [
       "\n",
       "  <div id=\"df-c9ee614b-5289-4c76-bf8a-9c683dc82796\">\n",
       "    <div class=\"colab-df-container\">\n",
       "      <div>\n",
       "<style scoped>\n",
       "    .dataframe tbody tr th:only-of-type {\n",
       "        vertical-align: middle;\n",
       "    }\n",
       "\n",
       "    .dataframe tbody tr th {\n",
       "        vertical-align: top;\n",
       "    }\n",
       "\n",
       "    .dataframe thead th {\n",
       "        text-align: right;\n",
       "    }\n",
       "</style>\n",
       "<table border=\"1\" class=\"dataframe\">\n",
       "  <thead>\n",
       "    <tr style=\"text-align: right;\">\n",
       "      <th></th>\n",
       "      <th>medallion</th>\n",
       "      <th>hack_license</th>\n",
       "      <th>pickup_datetime</th>\n",
       "      <th>dropoff_datetime</th>\n",
       "      <th>trip_time_in_secs</th>\n",
       "      <th>trip_distance</th>\n",
       "      <th>pickup_longitude</th>\n",
       "      <th>pickup_latitude</th>\n",
       "      <th>dropoff_longitude</th>\n",
       "      <th>dropoff_latitude</th>\n",
       "      <th>...</th>\n",
       "      <th>mta_tax</th>\n",
       "      <th>tip_amount</th>\n",
       "      <th>tolls_amount</th>\n",
       "      <th>total_amount</th>\n",
       "      <th>amountPerDistance</th>\n",
       "      <th>amountPerSecs</th>\n",
       "      <th>pickup</th>\n",
       "      <th>dropoff</th>\n",
       "      <th>hour</th>\n",
       "      <th>day</th>\n",
       "    </tr>\n",
       "  </thead>\n",
       "  <tbody>\n",
       "    <tr>\n",
       "      <th>0</th>\n",
       "      <td>07290D3599E7A0D62097A346EFCC1FB5</td>\n",
       "      <td>E7750A37CAB07D0DFF0AF7E3573AC141</td>\n",
       "      <td>2013-01-01 00:00:00</td>\n",
       "      <td>2013-01-01 00:02:00</td>\n",
       "      <td>120</td>\n",
       "      <td>0.44</td>\n",
       "      <td>-73.956528</td>\n",
       "      <td>40.716976</td>\n",
       "      <td>-73.962440</td>\n",
       "      <td>40.715008</td>\n",
       "      <td>...</td>\n",
       "      <td>0.5</td>\n",
       "      <td>0.0</td>\n",
       "      <td>0.0</td>\n",
       "      <td>4.5</td>\n",
       "      <td>7.954545</td>\n",
       "      <td>0.029167</td>\n",
       "      <td>-73.955825,40.71586403599999</td>\n",
       "      <td>-73.961811,40.71586403599999</td>\n",
       "      <td>0</td>\n",
       "      <td>1</td>\n",
       "    </tr>\n",
       "    <tr>\n",
       "      <th>1</th>\n",
       "      <td>0EC22AAF491A8BD91F279350C2B010FD</td>\n",
       "      <td>778C92B26AE78A9EBDF96B49C67E4007</td>\n",
       "      <td>2013-01-01 00:01:00</td>\n",
       "      <td>2013-01-01 00:03:00</td>\n",
       "      <td>120</td>\n",
       "      <td>0.71</td>\n",
       "      <td>-73.973145</td>\n",
       "      <td>40.752827</td>\n",
       "      <td>-73.965897</td>\n",
       "      <td>40.760445</td>\n",
       "      <td>...</td>\n",
       "      <td>0.5</td>\n",
       "      <td>0.0</td>\n",
       "      <td>0.0</td>\n",
       "      <td>5.0</td>\n",
       "      <td>5.633803</td>\n",
       "      <td>0.033333</td>\n",
       "      <td>-73.973783,40.75179648399999</td>\n",
       "      <td>-73.967797,40.76077959599999</td>\n",
       "      <td>0</td>\n",
       "      <td>1</td>\n",
       "    </tr>\n",
       "    <tr>\n",
       "      <th>2</th>\n",
       "      <td>1390FB380189DF6BBFDA4DC847CAD14F</td>\n",
       "      <td>BE317B986700F63C43438482792C8654</td>\n",
       "      <td>2013-01-01 00:01:00</td>\n",
       "      <td>2013-01-01 00:03:00</td>\n",
       "      <td>120</td>\n",
       "      <td>0.48</td>\n",
       "      <td>-74.004173</td>\n",
       "      <td>40.720947</td>\n",
       "      <td>-74.003838</td>\n",
       "      <td>40.726189</td>\n",
       "      <td>...</td>\n",
       "      <td>0.5</td>\n",
       "      <td>0.0</td>\n",
       "      <td>0.0</td>\n",
       "      <td>5.0</td>\n",
       "      <td>8.333333</td>\n",
       "      <td>0.033333</td>\n",
       "      <td>-74.003713,40.72035559199999</td>\n",
       "      <td>-74.003713,40.724847147999995</td>\n",
       "      <td>0</td>\n",
       "      <td>1</td>\n",
       "    </tr>\n",
       "    <tr>\n",
       "      <th>3</th>\n",
       "      <td>3B4129883A1D05BE89F2C929DE136281</td>\n",
       "      <td>7077F9FD5AD649AEACA4746B2537E3FA</td>\n",
       "      <td>2013-01-01 00:01:00</td>\n",
       "      <td>2013-01-01 00:03:00</td>\n",
       "      <td>120</td>\n",
       "      <td>0.61</td>\n",
       "      <td>-73.987373</td>\n",
       "      <td>40.724861</td>\n",
       "      <td>-73.983772</td>\n",
       "      <td>40.730995</td>\n",
       "      <td>...</td>\n",
       "      <td>0.5</td>\n",
       "      <td>0.0</td>\n",
       "      <td>0.0</td>\n",
       "      <td>5.0</td>\n",
       "      <td>6.557377</td>\n",
       "      <td>0.033333</td>\n",
       "      <td>-73.985755,40.724847147999995</td>\n",
       "      <td>-73.985755,40.72933870399999</td>\n",
       "      <td>0</td>\n",
       "      <td>1</td>\n",
       "    </tr>\n",
       "    <tr>\n",
       "      <th>4</th>\n",
       "      <td>468244D1361B8A3EB8D206CC394BC9E9</td>\n",
       "      <td>BB899DFEA9CC964B50C540A1D685CCFB</td>\n",
       "      <td>2013-01-01 00:00:00</td>\n",
       "      <td>2013-01-01 00:04:00</td>\n",
       "      <td>240</td>\n",
       "      <td>1.71</td>\n",
       "      <td>-73.955383</td>\n",
       "      <td>40.779728</td>\n",
       "      <td>-73.967758</td>\n",
       "      <td>40.760326</td>\n",
       "      <td>...</td>\n",
       "      <td>0.5</td>\n",
       "      <td>0.0</td>\n",
       "      <td>0.0</td>\n",
       "      <td>7.5</td>\n",
       "      <td>3.801170</td>\n",
       "      <td>0.027083</td>\n",
       "      <td>-73.955825,40.77874581999999</td>\n",
       "      <td>-73.967797,40.76077959599999</td>\n",
       "      <td>0</td>\n",
       "      <td>1</td>\n",
       "    </tr>\n",
       "  </tbody>\n",
       "</table>\n",
       "<p>5 rows × 23 columns</p>\n",
       "</div>\n",
       "      <button class=\"colab-df-convert\" onclick=\"convertToInteractive('df-c9ee614b-5289-4c76-bf8a-9c683dc82796')\"\n",
       "              title=\"Convert this dataframe to an interactive table.\"\n",
       "              style=\"display:none;\">\n",
       "        \n",
       "  <svg xmlns=\"http://www.w3.org/2000/svg\" height=\"24px\"viewBox=\"0 0 24 24\"\n",
       "       width=\"24px\">\n",
       "    <path d=\"M0 0h24v24H0V0z\" fill=\"none\"/>\n",
       "    <path d=\"M18.56 5.44l.94 2.06.94-2.06 2.06-.94-2.06-.94-.94-2.06-.94 2.06-2.06.94zm-11 1L8.5 8.5l.94-2.06 2.06-.94-2.06-.94L8.5 2.5l-.94 2.06-2.06.94zm10 10l.94 2.06.94-2.06 2.06-.94-2.06-.94-.94-2.06-.94 2.06-2.06.94z\"/><path d=\"M17.41 7.96l-1.37-1.37c-.4-.4-.92-.59-1.43-.59-.52 0-1.04.2-1.43.59L10.3 9.45l-7.72 7.72c-.78.78-.78 2.05 0 2.83L4 21.41c.39.39.9.59 1.41.59.51 0 1.02-.2 1.41-.59l7.78-7.78 2.81-2.81c.8-.78.8-2.07 0-2.86zM5.41 20L4 18.59l7.72-7.72 1.47 1.35L5.41 20z\"/>\n",
       "  </svg>\n",
       "      </button>\n",
       "      \n",
       "  <style>\n",
       "    .colab-df-container {\n",
       "      display:flex;\n",
       "      flex-wrap:wrap;\n",
       "      gap: 12px;\n",
       "    }\n",
       "\n",
       "    .colab-df-convert {\n",
       "      background-color: #E8F0FE;\n",
       "      border: none;\n",
       "      border-radius: 50%;\n",
       "      cursor: pointer;\n",
       "      display: none;\n",
       "      fill: #1967D2;\n",
       "      height: 32px;\n",
       "      padding: 0 0 0 0;\n",
       "      width: 32px;\n",
       "    }\n",
       "\n",
       "    .colab-df-convert:hover {\n",
       "      background-color: #E2EBFA;\n",
       "      box-shadow: 0px 1px 2px rgba(60, 64, 67, 0.3), 0px 1px 3px 1px rgba(60, 64, 67, 0.15);\n",
       "      fill: #174EA6;\n",
       "    }\n",
       "\n",
       "    [theme=dark] .colab-df-convert {\n",
       "      background-color: #3B4455;\n",
       "      fill: #D2E3FC;\n",
       "    }\n",
       "\n",
       "    [theme=dark] .colab-df-convert:hover {\n",
       "      background-color: #434B5C;\n",
       "      box-shadow: 0px 1px 3px 1px rgba(0, 0, 0, 0.15);\n",
       "      filter: drop-shadow(0px 1px 2px rgba(0, 0, 0, 0.3));\n",
       "      fill: #FFFFFF;\n",
       "    }\n",
       "  </style>\n",
       "\n",
       "      <script>\n",
       "        const buttonEl =\n",
       "          document.querySelector('#df-c9ee614b-5289-4c76-bf8a-9c683dc82796 button.colab-df-convert');\n",
       "        buttonEl.style.display =\n",
       "          google.colab.kernel.accessAllowed ? 'block' : 'none';\n",
       "\n",
       "        async function convertToInteractive(key) {\n",
       "          const element = document.querySelector('#df-c9ee614b-5289-4c76-bf8a-9c683dc82796');\n",
       "          const dataTable =\n",
       "            await google.colab.kernel.invokeFunction('convertToInteractive',\n",
       "                                                     [key], {});\n",
       "          if (!dataTable) return;\n",
       "\n",
       "          const docLinkHtml = 'Like what you see? Visit the ' +\n",
       "            '<a target=\"_blank\" href=https://colab.research.google.com/notebooks/data_table.ipynb>data table notebook</a>'\n",
       "            + ' to learn more about interactive tables.';\n",
       "          element.innerHTML = '';\n",
       "          dataTable['output_type'] = 'display_data';\n",
       "          await google.colab.output.renderOutput(dataTable, element);\n",
       "          const docLink = document.createElement('div');\n",
       "          docLink.innerHTML = docLinkHtml;\n",
       "          element.appendChild(docLink);\n",
       "        }\n",
       "      </script>\n",
       "    </div>\n",
       "  </div>\n",
       "  "
      ],
      "text/plain": [
       "                          medallion                      hack_license  \\\n",
       "0  07290D3599E7A0D62097A346EFCC1FB5  E7750A37CAB07D0DFF0AF7E3573AC141   \n",
       "1  0EC22AAF491A8BD91F279350C2B010FD  778C92B26AE78A9EBDF96B49C67E4007   \n",
       "2  1390FB380189DF6BBFDA4DC847CAD14F  BE317B986700F63C43438482792C8654   \n",
       "3  3B4129883A1D05BE89F2C929DE136281  7077F9FD5AD649AEACA4746B2537E3FA   \n",
       "4  468244D1361B8A3EB8D206CC394BC9E9  BB899DFEA9CC964B50C540A1D685CCFB   \n",
       "\n",
       "      pickup_datetime    dropoff_datetime  trip_time_in_secs  trip_distance  \\\n",
       "0 2013-01-01 00:00:00 2013-01-01 00:02:00                120           0.44   \n",
       "1 2013-01-01 00:01:00 2013-01-01 00:03:00                120           0.71   \n",
       "2 2013-01-01 00:01:00 2013-01-01 00:03:00                120           0.48   \n",
       "3 2013-01-01 00:01:00 2013-01-01 00:03:00                120           0.61   \n",
       "4 2013-01-01 00:00:00 2013-01-01 00:04:00                240           1.71   \n",
       "\n",
       "   pickup_longitude  pickup_latitude  dropoff_longitude  dropoff_latitude  \\\n",
       "0        -73.956528        40.716976         -73.962440         40.715008   \n",
       "1        -73.973145        40.752827         -73.965897         40.760445   \n",
       "2        -74.004173        40.720947         -74.003838         40.726189   \n",
       "3        -73.987373        40.724861         -73.983772         40.730995   \n",
       "4        -73.955383        40.779728         -73.967758         40.760326   \n",
       "\n",
       "   ... mta_tax  tip_amount  tolls_amount  total_amount  amountPerDistance  \\\n",
       "0  ...     0.5         0.0           0.0           4.5           7.954545   \n",
       "1  ...     0.5         0.0           0.0           5.0           5.633803   \n",
       "2  ...     0.5         0.0           0.0           5.0           8.333333   \n",
       "3  ...     0.5         0.0           0.0           5.0           6.557377   \n",
       "4  ...     0.5         0.0           0.0           7.5           3.801170   \n",
       "\n",
       "   amountPerSecs                         pickup  \\\n",
       "0       0.029167   -73.955825,40.71586403599999   \n",
       "1       0.033333   -73.973783,40.75179648399999   \n",
       "2       0.033333   -74.003713,40.72035559199999   \n",
       "3       0.033333  -73.985755,40.724847147999995   \n",
       "4       0.027083   -73.955825,40.77874581999999   \n",
       "\n",
       "                         dropoff  hour day  \n",
       "0   -73.961811,40.71586403599999     0   1  \n",
       "1   -73.967797,40.76077959599999     0   1  \n",
       "2  -74.003713,40.724847147999995     0   1  \n",
       "3   -73.985755,40.72933870399999     0   1  \n",
       "4   -73.967797,40.76077959599999     0   1  \n",
       "\n",
       "[5 rows x 23 columns]"
      ]
     },
     "execution_count": 28,
     "metadata": {},
     "output_type": "execute_result"
    }
   ],
   "source": [
    "#converting table to pandas dataframe and adding hour and day columns\n",
    "ex3 = DF3.toPandas()\n",
    "ex3['hour'] = ex3['pickup_datetime'].dt.hour\n",
    "ex3['day'] = ex3['pickup_datetime'].dt.day\n",
    "ex3.head()"
   ]
  },
  {
   "cell_type": "code",
   "execution_count": 29,
   "metadata": {
    "executionInfo": {
     "elapsed": 2,
     "status": "ok",
     "timestamp": 1670231478013,
     "user": {
      "displayName": "Frank Andreas Bauer",
      "userId": "08974877831175836730"
     },
     "user_tz": 0
    },
    "id": "BKjaa_YGjdQN"
   },
   "outputs": [],
   "source": [
    "#creating \"pickup dataframe\" \n",
    "ex3_pickup = ex3.groupby(['day','hour', 'pickup']).aggregate({'medallion':'count','fare_amount':'mean', 'tip_amount':'mean', 'trip_time_in_secs':'mean'})\n",
    "ex3_pickup.columns = ['count_pickups', 'avg_fare', 'avg_tip', 'avg_triptime']\n",
    "EX3_pickup = ex3_pickup.reset_index()"
   ]
  },
  {
   "cell_type": "code",
   "execution_count": 30,
   "metadata": {
    "executionInfo": {
     "elapsed": 7,
     "status": "ok",
     "timestamp": 1670231481694,
     "user": {
      "displayName": "Frank Andreas Bauer",
      "userId": "08974877831175836730"
     },
     "user_tz": 0
    },
    "id": "YFcMOkU4p8U0"
   },
   "outputs": [],
   "source": [
    "#creating \"dropoff dataframe\"\n",
    "ex3_dropoff = ex3.groupby(['dropoff']).aggregate({'medallion':'count'})\n",
    "ex3_dropoff.columns = ['count_dropoffs']\n",
    "EX3_dropoff = ex3_dropoff.reset_index()"
   ]
  },
  {
   "cell_type": "code",
   "execution_count": 31,
   "metadata": {
    "executionInfo": {
     "elapsed": 291,
     "status": "ok",
     "timestamp": 1670231487846,
     "user": {
      "displayName": "Frank Andreas Bauer",
      "userId": "08974877831175836730"
     },
     "user_tz": 0
    },
    "id": "C0EKDutOp-MT"
   },
   "outputs": [],
   "source": [
    "#merging \"dropoff datframe\" on \"pickup datframe\" to have pickup/dropoff statistics per location in one df\n",
    "DF3_combined = EX3_pickup.merge(EX3_dropoff, left_on='pickup', right_on='dropoff', how = 'left')\n",
    "DF3_combined = DF3_combined.fillna(0)\n",
    "DF3_combined['count_dropoffs'] = DF3_combined['count_dropoffs'].astype(int)\n",
    "DF3_combined['location'] = DF3_combined['pickup']"
   ]
  },
  {
   "cell_type": "code",
   "execution_count": 32,
   "metadata": {
    "executionInfo": {
     "elapsed": 3,
     "status": "ok",
     "timestamp": 1670231489862,
     "user": {
      "displayName": "Frank Andreas Bauer",
      "userId": "08974877831175836730"
     },
     "user_tz": 0
    },
    "id": "EOzcpeUGrb0e"
   },
   "outputs": [],
   "source": [
    "#computing the \"value\" algorithm\n",
    "DF3_combined['value'] = (DF3_combined['count_pickups'] - DF3_combined['count_dropoffs']) * ((DF3_combined['avg_fare'] + DF3_combined['avg_tip'])/ DF3_combined['avg_triptime'])"
   ]
  },
  {
   "cell_type": "code",
   "execution_count": 33,
   "metadata": {
    "colab": {
     "base_uri": "https://localhost:8080/",
     "height": 204
    },
    "executionInfo": {
     "elapsed": 4,
     "status": "ok",
     "timestamp": 1670231491025,
     "user": {
      "displayName": "Frank Andreas Bauer",
      "userId": "08974877831175836730"
     },
     "user_tz": 0
    },
    "id": "ll4p-1htqDF2",
    "outputId": "5c8413f7-1970-4dc3-f82c-f2b9e1919a8a"
   },
   "outputs": [
    {
     "data": {
      "text/html": [
       "\n",
       "  <div id=\"df-947ba227-ea9f-4c67-9269-1cd7a68e2c20\">\n",
       "    <div class=\"colab-df-container\">\n",
       "      <div>\n",
       "<style scoped>\n",
       "    .dataframe tbody tr th:only-of-type {\n",
       "        vertical-align: middle;\n",
       "    }\n",
       "\n",
       "    .dataframe tbody tr th {\n",
       "        vertical-align: top;\n",
       "    }\n",
       "\n",
       "    .dataframe thead th {\n",
       "        text-align: right;\n",
       "    }\n",
       "</style>\n",
       "<table border=\"1\" class=\"dataframe\">\n",
       "  <thead>\n",
       "    <tr style=\"text-align: right;\">\n",
       "      <th></th>\n",
       "      <th>day</th>\n",
       "      <th>hour</th>\n",
       "      <th>location</th>\n",
       "      <th>count_pickups</th>\n",
       "      <th>count_dropoffs</th>\n",
       "      <th>avg_fare</th>\n",
       "      <th>avg_tip</th>\n",
       "      <th>value</th>\n",
       "    </tr>\n",
       "  </thead>\n",
       "  <tbody>\n",
       "    <tr>\n",
       "      <th>280</th>\n",
       "      <td>1</td>\n",
       "      <td>0</td>\n",
       "      <td>-73.967797,40.77425426399999</td>\n",
       "      <td>57</td>\n",
       "      <td>40</td>\n",
       "      <td>9.982456</td>\n",
       "      <td>0.721053</td>\n",
       "      <td>0.284312</td>\n",
       "    </tr>\n",
       "    <tr>\n",
       "      <th>4752</th>\n",
       "      <td>1</td>\n",
       "      <td>10</td>\n",
       "      <td>-73.878007,40.77425426399999</td>\n",
       "      <td>8</td>\n",
       "      <td>1</td>\n",
       "      <td>29.437500</td>\n",
       "      <td>1.650000</td>\n",
       "      <td>0.205780</td>\n",
       "    </tr>\n",
       "    <tr>\n",
       "      <th>36</th>\n",
       "      <td>1</td>\n",
       "      <td>0</td>\n",
       "      <td>-73.878007,40.77425426399999</td>\n",
       "      <td>7</td>\n",
       "      <td>1</td>\n",
       "      <td>29.071429</td>\n",
       "      <td>3.192857</td>\n",
       "      <td>0.142943</td>\n",
       "    </tr>\n",
       "    <tr>\n",
       "      <th>3655</th>\n",
       "      <td>1</td>\n",
       "      <td>7</td>\n",
       "      <td>-73.776245,40.64849069599999</td>\n",
       "      <td>6</td>\n",
       "      <td>3</td>\n",
       "      <td>54.083333</td>\n",
       "      <td>1.333333</td>\n",
       "      <td>0.103261</td>\n",
       "    </tr>\n",
       "    <tr>\n",
       "      <th>4757</th>\n",
       "      <td>1</td>\n",
       "      <td>10</td>\n",
       "      <td>-73.883993,40.77425426399999</td>\n",
       "      <td>9</td>\n",
       "      <td>6</td>\n",
       "      <td>21.555556</td>\n",
       "      <td>3.175556</td>\n",
       "      <td>0.078373</td>\n",
       "    </tr>\n",
       "  </tbody>\n",
       "</table>\n",
       "</div>\n",
       "      <button class=\"colab-df-convert\" onclick=\"convertToInteractive('df-947ba227-ea9f-4c67-9269-1cd7a68e2c20')\"\n",
       "              title=\"Convert this dataframe to an interactive table.\"\n",
       "              style=\"display:none;\">\n",
       "        \n",
       "  <svg xmlns=\"http://www.w3.org/2000/svg\" height=\"24px\"viewBox=\"0 0 24 24\"\n",
       "       width=\"24px\">\n",
       "    <path d=\"M0 0h24v24H0V0z\" fill=\"none\"/>\n",
       "    <path d=\"M18.56 5.44l.94 2.06.94-2.06 2.06-.94-2.06-.94-.94-2.06-.94 2.06-2.06.94zm-11 1L8.5 8.5l.94-2.06 2.06-.94-2.06-.94L8.5 2.5l-.94 2.06-2.06.94zm10 10l.94 2.06.94-2.06 2.06-.94-2.06-.94-.94-2.06-.94 2.06-2.06.94z\"/><path d=\"M17.41 7.96l-1.37-1.37c-.4-.4-.92-.59-1.43-.59-.52 0-1.04.2-1.43.59L10.3 9.45l-7.72 7.72c-.78.78-.78 2.05 0 2.83L4 21.41c.39.39.9.59 1.41.59.51 0 1.02-.2 1.41-.59l7.78-7.78 2.81-2.81c.8-.78.8-2.07 0-2.86zM5.41 20L4 18.59l7.72-7.72 1.47 1.35L5.41 20z\"/>\n",
       "  </svg>\n",
       "      </button>\n",
       "      \n",
       "  <style>\n",
       "    .colab-df-container {\n",
       "      display:flex;\n",
       "      flex-wrap:wrap;\n",
       "      gap: 12px;\n",
       "    }\n",
       "\n",
       "    .colab-df-convert {\n",
       "      background-color: #E8F0FE;\n",
       "      border: none;\n",
       "      border-radius: 50%;\n",
       "      cursor: pointer;\n",
       "      display: none;\n",
       "      fill: #1967D2;\n",
       "      height: 32px;\n",
       "      padding: 0 0 0 0;\n",
       "      width: 32px;\n",
       "    }\n",
       "\n",
       "    .colab-df-convert:hover {\n",
       "      background-color: #E2EBFA;\n",
       "      box-shadow: 0px 1px 2px rgba(60, 64, 67, 0.3), 0px 1px 3px 1px rgba(60, 64, 67, 0.15);\n",
       "      fill: #174EA6;\n",
       "    }\n",
       "\n",
       "    [theme=dark] .colab-df-convert {\n",
       "      background-color: #3B4455;\n",
       "      fill: #D2E3FC;\n",
       "    }\n",
       "\n",
       "    [theme=dark] .colab-df-convert:hover {\n",
       "      background-color: #434B5C;\n",
       "      box-shadow: 0px 1px 3px 1px rgba(0, 0, 0, 0.15);\n",
       "      filter: drop-shadow(0px 1px 2px rgba(0, 0, 0, 0.3));\n",
       "      fill: #FFFFFF;\n",
       "    }\n",
       "  </style>\n",
       "\n",
       "      <script>\n",
       "        const buttonEl =\n",
       "          document.querySelector('#df-947ba227-ea9f-4c67-9269-1cd7a68e2c20 button.colab-df-convert');\n",
       "        buttonEl.style.display =\n",
       "          google.colab.kernel.accessAllowed ? 'block' : 'none';\n",
       "\n",
       "        async function convertToInteractive(key) {\n",
       "          const element = document.querySelector('#df-947ba227-ea9f-4c67-9269-1cd7a68e2c20');\n",
       "          const dataTable =\n",
       "            await google.colab.kernel.invokeFunction('convertToInteractive',\n",
       "                                                     [key], {});\n",
       "          if (!dataTable) return;\n",
       "\n",
       "          const docLinkHtml = 'Like what you see? Visit the ' +\n",
       "            '<a target=\"_blank\" href=https://colab.research.google.com/notebooks/data_table.ipynb>data table notebook</a>'\n",
       "            + ' to learn more about interactive tables.';\n",
       "          element.innerHTML = '';\n",
       "          dataTable['output_type'] = 'display_data';\n",
       "          await google.colab.output.renderOutput(dataTable, element);\n",
       "          const docLink = document.createElement('div');\n",
       "          docLink.innerHTML = docLinkHtml;\n",
       "          element.appendChild(docLink);\n",
       "        }\n",
       "      </script>\n",
       "    </div>\n",
       "  </div>\n",
       "  "
      ],
      "text/plain": [
       "      day  hour                      location  count_pickups  count_dropoffs  \\\n",
       "280     1     0  -73.967797,40.77425426399999             57              40   \n",
       "4752    1    10  -73.878007,40.77425426399999              8               1   \n",
       "36      1     0  -73.878007,40.77425426399999              7               1   \n",
       "3655    1     7  -73.776245,40.64849069599999              6               3   \n",
       "4757    1    10  -73.883993,40.77425426399999              9               6   \n",
       "\n",
       "       avg_fare   avg_tip     value  \n",
       "280    9.982456  0.721053  0.284312  \n",
       "4752  29.437500  1.650000  0.205780  \n",
       "36    29.071429  3.192857  0.142943  \n",
       "3655  54.083333  1.333333  0.103261  \n",
       "4757  21.555556  3.175556  0.078373  "
      ]
     },
     "execution_count": 33,
     "metadata": {},
     "output_type": "execute_result"
    }
   ],
   "source": [
    "#creating the final df for our program\n",
    "finalDF = DF3_combined[['day', 'hour', 'location', 'count_pickups', 'count_dropoffs', 'avg_fare', 'avg_tip', 'value']]\n",
    "finalDF = finalDF.loc[finalDF['count_pickups'] > 5]\n",
    "finalDF.nlargest(5,'value')"
   ]
  },
  {
   "cell_type": "code",
   "execution_count": 34,
   "metadata": {
    "executionInfo": {
     "elapsed": 291,
     "status": "ok",
     "timestamp": 1670231494344,
     "user": {
      "displayName": "Frank Andreas Bauer",
      "userId": "08974877831175836730"
     },
     "user_tz": 0
    },
    "id": "9DTu1TZlqFco"
   },
   "outputs": [],
   "source": [
    "#create program\n",
    "def next_pickup(day, hour): \n",
    "  return finalDF[['location','day', 'hour', 'value']].loc[(finalDF.day == day) & (finalDF.hour == hour + 1)].nlargest(1, 'value')"
   ]
  },
  {
   "cell_type": "code",
   "execution_count": 35,
   "metadata": {
    "colab": {
     "base_uri": "https://localhost:8080/",
     "height": 80
    },
    "executionInfo": {
     "elapsed": 8,
     "status": "ok",
     "timestamp": 1670231496316,
     "user": {
      "displayName": "Frank Andreas Bauer",
      "userId": "08974877831175836730"
     },
     "user_tz": 0
    },
    "id": "cfepGxMNqI9K",
    "outputId": "bb3114f7-9239-4904-f618-55310b41e52d"
   },
   "outputs": [
    {
     "data": {
      "text/html": [
       "\n",
       "  <div id=\"df-6721d601-016a-48ed-8dc6-ea03292dd14b\">\n",
       "    <div class=\"colab-df-container\">\n",
       "      <div>\n",
       "<style scoped>\n",
       "    .dataframe tbody tr th:only-of-type {\n",
       "        vertical-align: middle;\n",
       "    }\n",
       "\n",
       "    .dataframe tbody tr th {\n",
       "        vertical-align: top;\n",
       "    }\n",
       "\n",
       "    .dataframe thead th {\n",
       "        text-align: right;\n",
       "    }\n",
       "</style>\n",
       "<table border=\"1\" class=\"dataframe\">\n",
       "  <thead>\n",
       "    <tr style=\"text-align: right;\">\n",
       "      <th></th>\n",
       "      <th>location</th>\n",
       "      <th>day</th>\n",
       "      <th>hour</th>\n",
       "      <th>value</th>\n",
       "    </tr>\n",
       "  </thead>\n",
       "  <tbody>\n",
       "    <tr>\n",
       "      <th>4752</th>\n",
       "      <td>-73.878007,40.77425426399999</td>\n",
       "      <td>1</td>\n",
       "      <td>10</td>\n",
       "      <td>0.20578</td>\n",
       "    </tr>\n",
       "  </tbody>\n",
       "</table>\n",
       "</div>\n",
       "      <button class=\"colab-df-convert\" onclick=\"convertToInteractive('df-6721d601-016a-48ed-8dc6-ea03292dd14b')\"\n",
       "              title=\"Convert this dataframe to an interactive table.\"\n",
       "              style=\"display:none;\">\n",
       "        \n",
       "  <svg xmlns=\"http://www.w3.org/2000/svg\" height=\"24px\"viewBox=\"0 0 24 24\"\n",
       "       width=\"24px\">\n",
       "    <path d=\"M0 0h24v24H0V0z\" fill=\"none\"/>\n",
       "    <path d=\"M18.56 5.44l.94 2.06.94-2.06 2.06-.94-2.06-.94-.94-2.06-.94 2.06-2.06.94zm-11 1L8.5 8.5l.94-2.06 2.06-.94-2.06-.94L8.5 2.5l-.94 2.06-2.06.94zm10 10l.94 2.06.94-2.06 2.06-.94-2.06-.94-.94-2.06-.94 2.06-2.06.94z\"/><path d=\"M17.41 7.96l-1.37-1.37c-.4-.4-.92-.59-1.43-.59-.52 0-1.04.2-1.43.59L10.3 9.45l-7.72 7.72c-.78.78-.78 2.05 0 2.83L4 21.41c.39.39.9.59 1.41.59.51 0 1.02-.2 1.41-.59l7.78-7.78 2.81-2.81c.8-.78.8-2.07 0-2.86zM5.41 20L4 18.59l7.72-7.72 1.47 1.35L5.41 20z\"/>\n",
       "  </svg>\n",
       "      </button>\n",
       "      \n",
       "  <style>\n",
       "    .colab-df-container {\n",
       "      display:flex;\n",
       "      flex-wrap:wrap;\n",
       "      gap: 12px;\n",
       "    }\n",
       "\n",
       "    .colab-df-convert {\n",
       "      background-color: #E8F0FE;\n",
       "      border: none;\n",
       "      border-radius: 50%;\n",
       "      cursor: pointer;\n",
       "      display: none;\n",
       "      fill: #1967D2;\n",
       "      height: 32px;\n",
       "      padding: 0 0 0 0;\n",
       "      width: 32px;\n",
       "    }\n",
       "\n",
       "    .colab-df-convert:hover {\n",
       "      background-color: #E2EBFA;\n",
       "      box-shadow: 0px 1px 2px rgba(60, 64, 67, 0.3), 0px 1px 3px 1px rgba(60, 64, 67, 0.15);\n",
       "      fill: #174EA6;\n",
       "    }\n",
       "\n",
       "    [theme=dark] .colab-df-convert {\n",
       "      background-color: #3B4455;\n",
       "      fill: #D2E3FC;\n",
       "    }\n",
       "\n",
       "    [theme=dark] .colab-df-convert:hover {\n",
       "      background-color: #434B5C;\n",
       "      box-shadow: 0px 1px 3px 1px rgba(0, 0, 0, 0.15);\n",
       "      filter: drop-shadow(0px 1px 2px rgba(0, 0, 0, 0.3));\n",
       "      fill: #FFFFFF;\n",
       "    }\n",
       "  </style>\n",
       "\n",
       "      <script>\n",
       "        const buttonEl =\n",
       "          document.querySelector('#df-6721d601-016a-48ed-8dc6-ea03292dd14b button.colab-df-convert');\n",
       "        buttonEl.style.display =\n",
       "          google.colab.kernel.accessAllowed ? 'block' : 'none';\n",
       "\n",
       "        async function convertToInteractive(key) {\n",
       "          const element = document.querySelector('#df-6721d601-016a-48ed-8dc6-ea03292dd14b');\n",
       "          const dataTable =\n",
       "            await google.colab.kernel.invokeFunction('convertToInteractive',\n",
       "                                                     [key], {});\n",
       "          if (!dataTable) return;\n",
       "\n",
       "          const docLinkHtml = 'Like what you see? Visit the ' +\n",
       "            '<a target=\"_blank\" href=https://colab.research.google.com/notebooks/data_table.ipynb>data table notebook</a>'\n",
       "            + ' to learn more about interactive tables.';\n",
       "          element.innerHTML = '';\n",
       "          dataTable['output_type'] = 'display_data';\n",
       "          await google.colab.output.renderOutput(dataTable, element);\n",
       "          const docLink = document.createElement('div');\n",
       "          docLink.innerHTML = docLinkHtml;\n",
       "          element.appendChild(docLink);\n",
       "        }\n",
       "      </script>\n",
       "    </div>\n",
       "  </div>\n",
       "  "
      ],
      "text/plain": [
       "                          location  day  hour    value\n",
       "4752  -73.878007,40.77425426399999    1    10  0.20578"
      ]
     },
     "execution_count": 35,
     "metadata": {},
     "output_type": "execute_result"
    }
   ],
   "source": [
    "#test\n",
    "next_pickup(1, 9)"
   ]
  },
  {
   "cell_type": "markdown",
   "metadata": {
    "application/vnd.databricks.v1+cell": {
     "inputWidgets": {},
     "nuid": "9e0d1790-d4c2-4fbf-a7d7-aa1bea276782",
     "showTitle": false,
     "title": ""
    },
    "id": "rfePXMkkOF4W"
   },
   "source": [
    "#### Discussion\n",
    "\n",
    "**Explain your code and discuss results**"
   ]
  },
  {
   "cell_type": "markdown",
   "metadata": {
    "id": "S7dKTgnHwCSA"
   },
   "source": [
    "To build the dataframe for our program, we first created a table with rounded longitudes and latitudes (500m). Next, we created two dataframes, to get the number of pickups and dropoffs as well as the mean total amount that was paid for each pickup location. Our algortithm for the \"value\" of each location is the following: \n",
    "\n",
    "**Location Value  = (count(pickups) - count(dropoffs)) * ((avg(fare_amount) + avg(tip_amount)/ avg(tip_triptime))**\n",
    "\n",
    "The idea is that locations with more pickups than dropoffs are more valuable as there are less taxis competing with eachother -> smaller idle time. Additionaly, we take the sum of the average amount spend on fare and tips, devided by the avergage triptime at this location into account, as this is also intersting for the taxi driver. We exlcude the the toll amount as well as the surcharge as they are irrelevent for the taxi driver. Last but not least, we only inculde locations with more the 5 pickups as a minimum amount for the demand."
   ]
  },
  {
   "cell_type": "markdown",
   "metadata": {
    "application/vnd.databricks.v1+cell": {
     "inputWidgets": {},
     "nuid": "85a2968b-96fa-4772-8e58-f6cdbe580f77",
     "showTitle": false,
     "title": ""
    },
    "id": "FS3Z8RXlOF4W"
   },
   "source": [
    "## Exercise 4\n",
    "\n",
    "The fourth question intends to help define the location of taxi ranks (the places where taxis stop waiting for collecting clients) in a way that tries to minimize the distance a client needs to travel to reach the taxi rank.\n",
    "\n",
    "Consider that you want to establish, at least, 100 taxi ranks but no more than 150 - present the code that defines the number and locations of the ranks.\n",
    "\n",
    "**Note:** This dataset is for NYC taxis. So, pickups outside of the city are infrequent and not representative of the demand in such areas. As such, you should focus on pickups in a square that includes NYC (it is ok if the square includes parts outside of the city). Use, for example, the following square:\n",
    "```\n",
    "northLatitude = 40.86\n",
    "southLatitude = 40.68\n",
    "eastLongitude = -74.03\n",
    "westLongitude = -73.92\n",
    "```\n",
    "\n",
    "**Suggestion:** Plot your results as a heatmap, with the color being a measurement of the value of the taxi rank; use the visual feedback to enhance your solution."
   ]
  },
  {
   "cell_type": "code",
   "execution_count": 40,
   "metadata": {
    "application/vnd.databricks.v1+cell": {
     "inputWidgets": {},
     "nuid": "ea05e93a-181e-4d51-81de-7e2a067cb32e",
     "showTitle": false,
     "title": ""
    },
    "colab": {
     "base_uri": "https://localhost:8080/",
     "height": 204
    },
    "executionInfo": {
     "elapsed": 1105,
     "status": "ok",
     "timestamp": 1670232002356,
     "user": {
      "displayName": "Frank Andreas Bauer",
      "userId": "08974877831175836730"
     },
     "user_tz": 0
    },
    "id": "AAgfTC3vOF4W",
    "outputId": "402ddff6-9ed3-4fb8-9e1a-c34f2650d15d"
   },
   "outputs": [
    {
     "data": {
      "text/html": [
       "\n",
       "  <div id=\"df-ab5877ee-f468-47a5-928b-5cbd06253c65\">\n",
       "    <div class=\"colab-df-container\">\n",
       "      <div>\n",
       "<style scoped>\n",
       "    .dataframe tbody tr th:only-of-type {\n",
       "        vertical-align: middle;\n",
       "    }\n",
       "\n",
       "    .dataframe tbody tr th {\n",
       "        vertical-align: top;\n",
       "    }\n",
       "\n",
       "    .dataframe thead th {\n",
       "        text-align: right;\n",
       "    }\n",
       "</style>\n",
       "<table border=\"1\" class=\"dataframe\">\n",
       "  <thead>\n",
       "    <tr style=\"text-align: right;\">\n",
       "      <th></th>\n",
       "      <th>pickup_longitude</th>\n",
       "      <th>pickup_latitude</th>\n",
       "    </tr>\n",
       "  </thead>\n",
       "  <tbody>\n",
       "    <tr>\n",
       "      <th>0</th>\n",
       "      <td>-73.956528</td>\n",
       "      <td>40.716976</td>\n",
       "    </tr>\n",
       "    <tr>\n",
       "      <th>1</th>\n",
       "      <td>-73.973145</td>\n",
       "      <td>40.752827</td>\n",
       "    </tr>\n",
       "    <tr>\n",
       "      <th>2</th>\n",
       "      <td>-74.004173</td>\n",
       "      <td>40.720947</td>\n",
       "    </tr>\n",
       "    <tr>\n",
       "      <th>3</th>\n",
       "      <td>-73.987373</td>\n",
       "      <td>40.724861</td>\n",
       "    </tr>\n",
       "    <tr>\n",
       "      <th>4</th>\n",
       "      <td>-73.955383</td>\n",
       "      <td>40.779728</td>\n",
       "    </tr>\n",
       "  </tbody>\n",
       "</table>\n",
       "</div>\n",
       "      <button class=\"colab-df-convert\" onclick=\"convertToInteractive('df-ab5877ee-f468-47a5-928b-5cbd06253c65')\"\n",
       "              title=\"Convert this dataframe to an interactive table.\"\n",
       "              style=\"display:none;\">\n",
       "        \n",
       "  <svg xmlns=\"http://www.w3.org/2000/svg\" height=\"24px\"viewBox=\"0 0 24 24\"\n",
       "       width=\"24px\">\n",
       "    <path d=\"M0 0h24v24H0V0z\" fill=\"none\"/>\n",
       "    <path d=\"M18.56 5.44l.94 2.06.94-2.06 2.06-.94-2.06-.94-.94-2.06-.94 2.06-2.06.94zm-11 1L8.5 8.5l.94-2.06 2.06-.94-2.06-.94L8.5 2.5l-.94 2.06-2.06.94zm10 10l.94 2.06.94-2.06 2.06-.94-2.06-.94-.94-2.06-.94 2.06-2.06.94z\"/><path d=\"M17.41 7.96l-1.37-1.37c-.4-.4-.92-.59-1.43-.59-.52 0-1.04.2-1.43.59L10.3 9.45l-7.72 7.72c-.78.78-.78 2.05 0 2.83L4 21.41c.39.39.9.59 1.41.59.51 0 1.02-.2 1.41-.59l7.78-7.78 2.81-2.81c.8-.78.8-2.07 0-2.86zM5.41 20L4 18.59l7.72-7.72 1.47 1.35L5.41 20z\"/>\n",
       "  </svg>\n",
       "      </button>\n",
       "      \n",
       "  <style>\n",
       "    .colab-df-container {\n",
       "      display:flex;\n",
       "      flex-wrap:wrap;\n",
       "      gap: 12px;\n",
       "    }\n",
       "\n",
       "    .colab-df-convert {\n",
       "      background-color: #E8F0FE;\n",
       "      border: none;\n",
       "      border-radius: 50%;\n",
       "      cursor: pointer;\n",
       "      display: none;\n",
       "      fill: #1967D2;\n",
       "      height: 32px;\n",
       "      padding: 0 0 0 0;\n",
       "      width: 32px;\n",
       "    }\n",
       "\n",
       "    .colab-df-convert:hover {\n",
       "      background-color: #E2EBFA;\n",
       "      box-shadow: 0px 1px 2px rgba(60, 64, 67, 0.3), 0px 1px 3px 1px rgba(60, 64, 67, 0.15);\n",
       "      fill: #174EA6;\n",
       "    }\n",
       "\n",
       "    [theme=dark] .colab-df-convert {\n",
       "      background-color: #3B4455;\n",
       "      fill: #D2E3FC;\n",
       "    }\n",
       "\n",
       "    [theme=dark] .colab-df-convert:hover {\n",
       "      background-color: #434B5C;\n",
       "      box-shadow: 0px 1px 3px 1px rgba(0, 0, 0, 0.15);\n",
       "      filter: drop-shadow(0px 1px 2px rgba(0, 0, 0, 0.3));\n",
       "      fill: #FFFFFF;\n",
       "    }\n",
       "  </style>\n",
       "\n",
       "      <script>\n",
       "        const buttonEl =\n",
       "          document.querySelector('#df-ab5877ee-f468-47a5-928b-5cbd06253c65 button.colab-df-convert');\n",
       "        buttonEl.style.display =\n",
       "          google.colab.kernel.accessAllowed ? 'block' : 'none';\n",
       "\n",
       "        async function convertToInteractive(key) {\n",
       "          const element = document.querySelector('#df-ab5877ee-f468-47a5-928b-5cbd06253c65');\n",
       "          const dataTable =\n",
       "            await google.colab.kernel.invokeFunction('convertToInteractive',\n",
       "                                                     [key], {});\n",
       "          if (!dataTable) return;\n",
       "\n",
       "          const docLinkHtml = 'Like what you see? Visit the ' +\n",
       "            '<a target=\"_blank\" href=https://colab.research.google.com/notebooks/data_table.ipynb>data table notebook</a>'\n",
       "            + ' to learn more about interactive tables.';\n",
       "          element.innerHTML = '';\n",
       "          dataTable['output_type'] = 'display_data';\n",
       "          await google.colab.output.renderOutput(dataTable, element);\n",
       "          const docLink = document.createElement('div');\n",
       "          docLink.innerHTML = docLinkHtml;\n",
       "          element.appendChild(docLink);\n",
       "        }\n",
       "      </script>\n",
       "    </div>\n",
       "  </div>\n",
       "  "
      ],
      "text/plain": [
       "   pickup_longitude  pickup_latitude\n",
       "0        -73.956528        40.716976\n",
       "1        -73.973145        40.752827\n",
       "2        -74.004173        40.720947\n",
       "3        -73.987373        40.724861\n",
       "4        -73.955383        40.779728"
      ]
     },
     "execution_count": 40,
     "metadata": {},
     "output_type": "execute_result"
    }
   ],
   "source": [
    "# Filtering Region\n",
    "#ex4 = dataDF.toPandas()\n",
    "ex4 = cleanedDF\n",
    "DF4 = ex4[['pickup_longitude','pickup_latitude']][((ex4['pickup_longitude'] < -73.92) & (ex4['pickup_longitude'] > -74.03)) & \n",
    "             ((ex4['pickup_latitude'] < 40.86) & (ex4['pickup_latitude'] > 40.68))]\n",
    "DF4.head()"
   ]
  },
  {
   "cell_type": "code",
   "execution_count": 41,
   "metadata": {
    "executionInfo": {
     "elapsed": 860283,
     "status": "ok",
     "timestamp": 1670232874457,
     "user": {
      "displayName": "Frank Andreas Bauer",
      "userId": "08974877831175836730"
     },
     "user_tz": 0
    },
    "id": "ERbAn71CvEuW"
   },
   "outputs": [],
   "source": [
    "#building our model\n",
    "from sklearn.preprocessing import StandardScaler\n",
    "import matplotlib.cm as cm\n",
    "from sklearn.cluster import KMeans\n",
    "from sklearn.metrics import silhouette_score, silhouette_samples\n",
    "\n",
    "x = DF4\n",
    "sse, db, slc = {}, {}, {}\n",
    "for k in range(100, 151,10): #we are not using the complete range, as it takes too long to run on our computers\n",
    "    kmeans = KMeans(n_clusters = k, max_iter = 100, n_init = 10, init = 'k-means++', random_state=0).fit(x)\n",
    "    clusters = kmeans.labels_\n",
    "    slc[k] = silhouette_score(x, clusters)"
   ]
  },
  {
   "cell_type": "code",
   "execution_count": 42,
   "metadata": {
    "colab": {
     "base_uri": "https://localhost:8080/",
     "height": 397
    },
    "executionInfo": {
     "elapsed": 853,
     "status": "ok",
     "timestamp": 1670233680408,
     "user": {
      "displayName": "Frank Andreas Bauer",
      "userId": "08974877831175836730"
     },
     "user_tz": 0
    },
    "id": "AZVV5BtoZZ9L",
    "outputId": "317b79ba-b9b7-4733-ea72-793b95a8ad93"
   },
   "outputs": [
    {
     "data": {
      "image/png": "[encoded data removed]",
      "text/plain": [
       "<Figure size 576x432 with 1 Axes>"
      ]
     },
     "metadata": {},
     "output_type": "display_data"
    }
   ],
   "source": [
    "#displaying the silhoute score\n",
    "plt.figure(figsize=(8, 6))\n",
    "plt.plot(list(slc.keys()), list(slc.values()), marker='o')\n",
    "plt.xlabel('Number of Clusters', fontsize=20)\n",
    "plt.ylabel('Silhouette Score', fontsize=20)\n",
    "plt.show()"
   ]
  },
  {
   "cell_type": "code",
   "execution_count": 44,
   "metadata": {
    "executionInfo": {
     "elapsed": 49464,
     "status": "ok",
     "timestamp": 1670233741618,
     "user": {
      "displayName": "Frank Andreas Bauer",
      "userId": "08974877831175836730"
     },
     "user_tz": 0
    },
    "id": "Yc-uoOrStkMt"
   },
   "outputs": [],
   "source": [
    "#computing model with k=140\n",
    "model = KMeans(n_clusters=140, init='k-means++', max_iter=300, n_init=10, random_state=0)\n",
    "pred_y = model.fit_predict(DF4)"
   ]
  },
  {
   "cell_type": "code",
   "execution_count": 45,
   "metadata": {
    "colab": {
     "base_uri": "https://localhost:8080/",
     "height": 384
    },
    "executionInfo": {
     "elapsed": 897,
     "status": "ok",
     "timestamp": 1670233757252,
     "user": {
      "displayName": "Frank Andreas Bauer",
      "userId": "08974877831175836730"
     },
     "user_tz": 0
    },
    "id": "Nb9-APG0IB3l",
    "outputId": "05ea202e-f766-4e48-ca90-33905f042ce1"
   },
   "outputs": [
    {
     "data": {
      "image/png": "[encoded data removed]",
      "text/plain": [
       "<Figure size 576x396 with 1 Axes>"
      ]
     },
     "metadata": {},
     "output_type": "display_data"
    }
   ],
   "source": [
    "plt.scatter(DF4['pickup_longitude'], DF4['pickup_latitude'])\n",
    "plt.scatter(model.cluster_centers_[:, 0], model.cluster_centers_[:, 1], s=100, c='red')\n",
    "plt.xlabel('longitude', fontsize=12)\n",
    "plt.ylabel('latitude', fontsize=12)\n",
    "plt.title('Pickup Locations and Centroids/ Ranks in NYC', fontsize=20)\n",
    "plt.show()"
   ]
  },
  {
   "cell_type": "code",
   "execution_count": 46,
   "metadata": {
    "colab": {
     "base_uri": "https://localhost:8080/",
     "height": 204
    },
    "executionInfo": {
     "elapsed": 8,
     "status": "ok",
     "timestamp": 1670233759117,
     "user": {
      "displayName": "Frank Andreas Bauer",
      "userId": "08974877831175836730"
     },
     "user_tz": 0
    },
    "id": "3gLLWvoHZffX",
    "outputId": "460492b3-8630-4981-d5cb-eedbc0ea601d"
   },
   "outputs": [
    {
     "data": {
      "text/html": [
       "\n",
       "  <div id=\"df-7ab24e8a-89c8-4b9b-a760-88eb0f9104ed\">\n",
       "    <div class=\"colab-df-container\">\n",
       "      <div>\n",
       "<style scoped>\n",
       "    .dataframe tbody tr th:only-of-type {\n",
       "        vertical-align: middle;\n",
       "    }\n",
       "\n",
       "    .dataframe tbody tr th {\n",
       "        vertical-align: top;\n",
       "    }\n",
       "\n",
       "    .dataframe thead th {\n",
       "        text-align: right;\n",
       "    }\n",
       "</style>\n",
       "<table border=\"1\" class=\"dataframe\">\n",
       "  <thead>\n",
       "    <tr style=\"text-align: right;\">\n",
       "      <th></th>\n",
       "      <th>longitude</th>\n",
       "      <th>latitude</th>\n",
       "      <th>value</th>\n",
       "    </tr>\n",
       "  </thead>\n",
       "  <tbody>\n",
       "    <tr>\n",
       "      <th>6</th>\n",
       "      <td>-73.967697</td>\n",
       "      <td>40.755753</td>\n",
       "      <td>1589</td>\n",
       "    </tr>\n",
       "    <tr>\n",
       "      <th>118</th>\n",
       "      <td>-73.976827</td>\n",
       "      <td>40.751193</td>\n",
       "      <td>1477</td>\n",
       "    </tr>\n",
       "    <tr>\n",
       "      <th>92</th>\n",
       "      <td>-73.972933</td>\n",
       "      <td>40.756250</td>\n",
       "      <td>1449</td>\n",
       "    </tr>\n",
       "    <tr>\n",
       "      <th>132</th>\n",
       "      <td>-73.981294</td>\n",
       "      <td>40.742667</td>\n",
       "      <td>1347</td>\n",
       "    </tr>\n",
       "    <tr>\n",
       "      <th>1</th>\n",
       "      <td>-73.987958</td>\n",
       "      <td>40.718844</td>\n",
       "      <td>1346</td>\n",
       "    </tr>\n",
       "  </tbody>\n",
       "</table>\n",
       "</div>\n",
       "      <button class=\"colab-df-convert\" onclick=\"convertToInteractive('df-7ab24e8a-89c8-4b9b-a760-88eb0f9104ed')\"\n",
       "              title=\"Convert this dataframe to an interactive table.\"\n",
       "              style=\"display:none;\">\n",
       "        \n",
       "  <svg xmlns=\"http://www.w3.org/2000/svg\" height=\"24px\"viewBox=\"0 0 24 24\"\n",
       "       width=\"24px\">\n",
       "    <path d=\"M0 0h24v24H0V0z\" fill=\"none\"/>\n",
       "    <path d=\"M18.56 5.44l.94 2.06.94-2.06 2.06-.94-2.06-.94-.94-2.06-.94 2.06-2.06.94zm-11 1L8.5 8.5l.94-2.06 2.06-.94-2.06-.94L8.5 2.5l-.94 2.06-2.06.94zm10 10l.94 2.06.94-2.06 2.06-.94-2.06-.94-.94-2.06-.94 2.06-2.06.94z\"/><path d=\"M17.41 7.96l-1.37-1.37c-.4-.4-.92-.59-1.43-.59-.52 0-1.04.2-1.43.59L10.3 9.45l-7.72 7.72c-.78.78-.78 2.05 0 2.83L4 21.41c.39.39.9.59 1.41.59.51 0 1.02-.2 1.41-.59l7.78-7.78 2.81-2.81c.8-.78.8-2.07 0-2.86zM5.41 20L4 18.59l7.72-7.72 1.47 1.35L5.41 20z\"/>\n",
       "  </svg>\n",
       "      </button>\n",
       "      \n",
       "  <style>\n",
       "    .colab-df-container {\n",
       "      display:flex;\n",
       "      flex-wrap:wrap;\n",
       "      gap: 12px;\n",
       "    }\n",
       "\n",
       "    .colab-df-convert {\n",
       "      background-color: #E8F0FE;\n",
       "      border: none;\n",
       "      border-radius: 50%;\n",
       "      cursor: pointer;\n",
       "      display: none;\n",
       "      fill: #1967D2;\n",
       "      height: 32px;\n",
       "      padding: 0 0 0 0;\n",
       "      width: 32px;\n",
       "    }\n",
       "\n",
       "    .colab-df-convert:hover {\n",
       "      background-color: #E2EBFA;\n",
       "      box-shadow: 0px 1px 2px rgba(60, 64, 67, 0.3), 0px 1px 3px 1px rgba(60, 64, 67, 0.15);\n",
       "      fill: #174EA6;\n",
       "    }\n",
       "\n",
       "    [theme=dark] .colab-df-convert {\n",
       "      background-color: #3B4455;\n",
       "      fill: #D2E3FC;\n",
       "    }\n",
       "\n",
       "    [theme=dark] .colab-df-convert:hover {\n",
       "      background-color: #434B5C;\n",
       "      box-shadow: 0px 1px 3px 1px rgba(0, 0, 0, 0.15);\n",
       "      filter: drop-shadow(0px 1px 2px rgba(0, 0, 0, 0.3));\n",
       "      fill: #FFFFFF;\n",
       "    }\n",
       "  </style>\n",
       "\n",
       "      <script>\n",
       "        const buttonEl =\n",
       "          document.querySelector('#df-7ab24e8a-89c8-4b9b-a760-88eb0f9104ed button.colab-df-convert');\n",
       "        buttonEl.style.display =\n",
       "          google.colab.kernel.accessAllowed ? 'block' : 'none';\n",
       "\n",
       "        async function convertToInteractive(key) {\n",
       "          const element = document.querySelector('#df-7ab24e8a-89c8-4b9b-a760-88eb0f9104ed');\n",
       "          const dataTable =\n",
       "            await google.colab.kernel.invokeFunction('convertToInteractive',\n",
       "                                                     [key], {});\n",
       "          if (!dataTable) return;\n",
       "\n",
       "          const docLinkHtml = 'Like what you see? Visit the ' +\n",
       "            '<a target=\"_blank\" href=https://colab.research.google.com/notebooks/data_table.ipynb>data table notebook</a>'\n",
       "            + ' to learn more about interactive tables.';\n",
       "          element.innerHTML = '';\n",
       "          dataTable['output_type'] = 'display_data';\n",
       "          await google.colab.output.renderOutput(dataTable, element);\n",
       "          const docLink = document.createElement('div');\n",
       "          docLink.innerHTML = docLinkHtml;\n",
       "          element.appendChild(docLink);\n",
       "        }\n",
       "      </script>\n",
       "    </div>\n",
       "  </div>\n",
       "  "
      ],
      "text/plain": [
       "     longitude   latitude  value\n",
       "6   -73.967697  40.755753   1589\n",
       "118 -73.976827  40.751193   1477\n",
       "92  -73.972933  40.756250   1449\n",
       "132 -73.981294  40.742667   1347\n",
       "1   -73.987958  40.718844   1346"
      ]
     },
     "execution_count": 46,
     "metadata": {},
     "output_type": "execute_result"
    }
   ],
   "source": [
    "#creating a df with the value of each taxi rank\n",
    "cluster_location = model.cluster_centers_\n",
    "cluster_location.shape\n",
    "cluster_locationDF = pd.DataFrame(cluster_location)\n",
    "cluster_locationDF.columns = ['longitude', 'latitude']\n",
    "\n",
    "labels = model.labels_\n",
    "clusterCount = np.bincount(labels)\n",
    "clusterCountDF = pd.DataFrame(clusterCount)\n",
    "clusterCountDF.columns = ['value']\n",
    "\n",
    "cluster_locationDF['value'] = clusterCountDF\n",
    "cluster_locationDF.nlargest(5, 'value')"
   ]
  },
  {
   "cell_type": "code",
   "execution_count": 47,
   "metadata": {
    "colab": {
     "base_uri": "https://localhost:8080/",
     "height": 401
    },
    "executionInfo": {
     "elapsed": 1018,
     "status": "ok",
     "timestamp": 1670233762638,
     "user": {
      "displayName": "Frank Andreas Bauer",
      "userId": "08974877831175836730"
     },
     "user_tz": 0
    },
    "id": "BDCPiEHjZkJi",
    "outputId": "d4aa5efe-621a-4bb5-ee7d-fc039f612472"
   },
   "outputs": [
    {
     "data": {
      "image/png": "[encoded data removed]",
      "text/plain": [
       "<Figure size 576x396 with 1 Axes>"
      ]
     },
     "metadata": {},
     "output_type": "display_data"
    },
    {
     "data": {
      "text/plain": [
       "<Figure size 648x648 with 0 Axes>"
      ]
     },
     "metadata": {},
     "output_type": "display_data"
    }
   ],
   "source": [
    "ranks = plt.scatter(cluster_locationDF['longitude'], cluster_locationDF['latitude'], s=100, c=cluster_locationDF['value'], cmap='coolwarm')\n",
    "plt.xlabel('longitude', fontsize=12)\n",
    "plt.ylabel('latitude', fontsize=12)\n",
    "plt.title('Taxi Ranks in NYC', fontsize=20)\n",
    "plt.legend(*ranks.legend_elements(), title= 'value', fancybox=True, bbox_to_anchor=(1.2, 1))\n",
    "plt.figure(figsize=(9, 9))\n",
    "plt.show()"
   ]
  },
  {
   "cell_type": "markdown",
   "metadata": {
    "application/vnd.databricks.v1+cell": {
     "inputWidgets": {},
     "nuid": "bccdda5f-23d5-4f86-ad4b-d7ac0da223e3",
     "showTitle": false,
     "title": ""
    },
    "id": "WvFfw3OeOF4X"
   },
   "source": [
    "#### Discussion\n",
    "\n",
    "**Explain the rationale of your solution, your code and discuss results**"
   ]
  },
  {
   "cell_type": "markdown",
   "metadata": {
    "id": "qpn52f08zpkX"
   },
   "source": [
    "First, we filtered our dataset to only have values inside our examined square. To find the ideal ranks, we decided to let a kmeans model compute centroids in a specific amount of clusters. In order to find the ideal number of clusters, we run mulitple versions in a range of k = 100-150  and use the model with the highest silhoute score. Last but not least, we associate a value to each centroid/ rank by the number of pickups in its respective cluster.\n",
    "\n",
    "Looking at the results, we can see that the centroids/ ranks in the center of Manhattan generally have higher scores compared to ranks outside the city center."
   ]
  },
  {
   "cell_type": "markdown",
   "metadata": {
    "application/vnd.databricks.v1+cell": {
     "inputWidgets": {},
     "nuid": "9f55859b-dc21-4d4e-8e8c-94db48b43b94",
     "showTitle": false,
     "title": ""
    },
    "id": "Q9JG8DmeOF4X"
   },
   "source": [
    "## Exercise 5\n",
    "\n",
    "For the fifth questions we wanted to identfiy communities within downtown NYC. A community, with respect to graphs, can be defined as a subset of nodes that are densely connected to each other and loosely connected to the nodes in the other communities in the same graph.\n",
    "\n",
    "**Explain the problem you propose to solve**"
   ]
  },
  {
   "cell_type": "code",
   "execution_count": 66,
   "metadata": {
    "application/vnd.databricks.v1+cell": {
     "inputWidgets": {},
     "nuid": "2aa8b4b1-75ae-42bc-97cb-626ea7f91f98",
     "showTitle": false,
     "title": ""
    },
    "executionInfo": {
     "elapsed": 639,
     "status": "ok",
     "timestamp": 1670234287636,
     "user": {
      "displayName": "Frank Andreas Bauer",
      "userId": "08974877831175836730"
     },
     "user_tz": 0
    },
    "id": "aoJkP2_gOF4X"
   },
   "outputs": [],
   "source": [
    "downtownDF = cleanedDF[((cleanedDF['pickup_longitude'] < -73.92) & (cleanedDF['dropoff_longitude'] > -74.03)) & \n",
    "          ((cleanedDF['pickup_latitude'] < 40.86) & (cleanedDF['dropoff_latitude'] > 40.68))]\n",
    "\n",
    "\n",
    "downtown = spark.createDataFrame(downtownDF)\n",
    "downtown.createOrReplaceTempView(\"dataDF\");\n",
    "spark.sql(\"select count(*) from dataDF\");"
   ]
  },
  {
   "cell_type": "code",
   "execution_count": 67,
   "metadata": {
    "executionInfo": {
     "elapsed": 272,
     "status": "ok",
     "timestamp": 1670234289491,
     "user": {
      "displayName": "Frank Andreas Bauer",
      "userId": "08974877831175836730"
     },
     "user_tz": 0
    },
    "id": "6fAurN3eH_n0"
   },
   "outputs": [],
   "source": [
    "ex5 = spark.sql(\"\"\"SELECT \n",
    "                            CONCAT(longround(pickup_longitude),\",\", latround(pickup_latitude)) AS pickup, \n",
    "                            CONCAT(longround(dropoff_longitude),\",\", latround(dropoff_latitude)) AS dropoff, \n",
    "                            COUNT(medallion) AS count_routes\n",
    "                            FROM dataDF\n",
    "                          GROUP BY\n",
    "                            pickup, dropoff\n",
    "                          \"\"\")"
   ]
  },
  {
   "cell_type": "code",
   "execution_count": 68,
   "metadata": {
    "executionInfo": {
     "elapsed": 1909,
     "status": "ok",
     "timestamp": 1670234292432,
     "user": {
      "displayName": "Frank Andreas Bauer",
      "userId": "08974877831175836730"
     },
     "user_tz": 0
    },
    "id": "Ko-bficlIF6v"
   },
   "outputs": [],
   "source": [
    "import networkx as nx\n",
    "import community.community_louvain as community_louvain\n",
    "\n",
    "ex5DF = ex5.toPandas()\n",
    "ex5DF = ex5DF[ex5DF['count_routes']>5]\n",
    "\n",
    "G = nx.from_pandas_edgelist(ex5DF, source='pickup', target='dropoff', edge_attr='count_routes', create_using=None, edge_key=None)\n",
    "communities = community_louvain.best_partition(G, weight='count_routes', randomize=False, random_state=7)"
   ]
  },
  {
   "cell_type": "code",
   "execution_count": 86,
   "metadata": {
    "executionInfo": {
     "elapsed": 873,
     "status": "ok",
     "timestamp": 1670234698989,
     "user": {
      "displayName": "Frank Andreas Bauer",
      "userId": "08974877831175836730"
     },
     "user_tz": 0
    },
    "id": "fGEPdCtIIz20"
   },
   "outputs": [],
   "source": [
    "coms = pd.Series(communities, name='Community')\n",
    "coms.index.name = 'Range'\n",
    "coms = coms.reset_index()\n",
    "communityDF = coms\n",
    "\n",
    "communityDF[['longitude','latitude']] = communityDF['Range'].str.split(',', expand=True)\n",
    "communityDF['longitude'] = communityDF['longitude'].astype(float)\n",
    "communityDF['latitude'] = communityDF['latitude'].astype(float)\n",
    "\n",
    "# Filter again for NYC downtown, in case there are rounding errors through the data type conversion from string to float\n",
    "communityDF = communityDF [((communityDF ['longitude'] < -73.92) & (communityDF ['longitude'] > -74.03)) & \n",
    "          ((communityDF ['latitude'] < 40.86) & (communityDF ['latitude'] > 40.68))]"
   ]
  },
  {
   "cell_type": "code",
   "execution_count": 87,
   "metadata": {
    "colab": {
     "base_uri": "https://localhost:8080/",
     "height": 423
    },
    "executionInfo": {
     "elapsed": 1032,
     "status": "ok",
     "timestamp": 1670234702873,
     "user": {
      "displayName": "Frank Andreas Bauer",
      "userId": "08974877831175836730"
     },
     "user_tz": 0
    },
    "id": "nlPF48JitOob",
    "outputId": "701f490a-779d-4e68-cd26-59376e79999f"
   },
   "outputs": [
    {
     "name": "stderr",
     "output_type": "stream",
     "text": [
      "/usr/local/lib/python3.8/dist-packages/seaborn/_decorators.py:36: FutureWarning: Pass the following variables as keyword args: x, y. From version 0.12, the only valid positional argument will be `data`, and passing other arguments without an explicit keyword will result in an error or misinterpretation.\n",
      "  warnings.warn(\n"
     ]
    },
    {
     "data": {
      "image/png": "[encoded data removed]",
      "text/plain": [
       "<Figure size 418.375x360 with 1 Axes>"
      ]
     },
     "metadata": {},
     "output_type": "display_data"
    }
   ],
   "source": [
    "import seaborn as sns\n",
    "\n",
    "sns.lmplot('longitude', 'latitude', data=communityDF, hue='Community', fit_reg=False)\n",
    "plt.show()"
   ]
  },
  {
   "cell_type": "code",
   "execution_count": 88,
   "metadata": {
    "colab": {
     "base_uri": "https://localhost:8080/"
    },
    "executionInfo": {
     "elapsed": 262,
     "status": "ok",
     "timestamp": 1670234707092,
     "user": {
      "displayName": "Frank Andreas Bauer",
      "userId": "08974877831175836730"
     },
     "user_tz": 0
    },
    "id": "SRxevDaPutg-",
    "outputId": "7d2fb4a5-8001-4b9b-cb9a-692c9677753f"
   },
   "outputs": [
    {
     "data": {
      "text/plain": [
       "1     58\n",
       "10    41\n",
       "2     36\n",
       "4     25\n",
       "7      3\n",
       "8      3\n",
       "9      2\n",
       "11     2\n",
       "6      1\n",
       "3      1\n",
       "5      1\n",
       "Name: Community, dtype: int64"
      ]
     },
     "execution_count": 88,
     "metadata": {},
     "output_type": "execute_result"
    }
   ],
   "source": [
    "communityDF['Community'].value_counts()"
   ]
  },
  {
   "cell_type": "markdown",
   "metadata": {
    "application/vnd.databricks.v1+cell": {
     "inputWidgets": {},
     "nuid": "17ec8715-2b36-4d29-95ab-249b24d221e8",
     "showTitle": false,
     "title": ""
    },
    "id": "dp9hptyIOF4X"
   },
   "source": [
    "#### Discussion\n",
    "\n",
    "**Explain the rationale of your solution, your code and discuss results**\n",
    "\n",
    "First, we excluded all trips that have not taken place in downtown NYC from the cleaned dataset. \n",
    "\n",
    "Then, (similar to Ex.1) we rounded the coordinates, grouped them and counted the amount of trips for each connection (pickup and dropoff pair).\n",
    "\n",
    "Next we excluded any connection that took place less than 5 times, because we wanted to remove noise: Our communities should focus on the main connections.\n",
    "\n",
    "After that we build a graph by using the from_pandas_edgelist() function from the networkx module with pickup as source, dropoff as target and count_routes as edge attribute.\n",
    "\n",
    "Subsequently, to get a series of communities and their respective connections, we used the best_partition() function from the community_louvain module with count_routes as weight make sure that more popular connections are represented accordingly.\n",
    "\n",
    "Then we created a communityDF by turning the series into a dataframe and splitting the coordinates (by ',') in their respective longitude and latitude. Moreover, we changed the data type from the longitude and latitude columns from string to float.\n",
    "\n",
    "Finally, we plotted the communityDF using the lmplot() function from seaborn.\n",
    "\n",
    "**Result:** \n",
    "The graph shows that there are four main communities, that resemble some neighborhoods of NYC closely.\n",
    "\n",
    "Community 1: City center of Manhattan (Midtown, Chelsea, Soho)\n",
    "</br>\n",
    "Community 2: Upper East Side\n",
    "</br>\n",
    "Community 4: Midtown West\n",
    "</br>\n",
    "Community 10: Upper West Side\n",
    "\n",
    "\n",
    "\n",
    "\n",
    "\n",
    "\n",
    "\n",
    "\n"
   ]
  }
 ],
 "metadata": {
  "application/vnd.databricks.v1+notebook": {
   "dashboards": [],
   "language": "python",
   "notebookName": "Group project resolution - template final",
   "notebookOrigID": 149761708232030,
   "widgets": {}
  },
  "colab": {
   "collapsed_sections": [
    "028pOJ1rOvhf",
    "fyRTjhaZOF4U"
   ],
   "provenance": [
    {
     "file_id": "1vuLYWNJsOmMh3P7uWmepRhRjfKzM6GKa",
     "timestamp": 1670235263917
    }
   ]
  },
  "kernelspec": {
   "display_name": "Python 3 (ipykernel)",
   "language": "python",
   "name": "python3"
  },
  "language_info": {
   "codemirror_mode": {
    "name": "ipython",
    "version": 3
   },
   "file_extension": ".py",
   "mimetype": "text/x-python",
   "name": "python",
   "nbconvert_exporter": "python",
   "pygments_lexer": "ipython3",
   "version": "3.9.13"
  }
 },
 "nbformat": 4,
 "nbformat_minor": 1
}
